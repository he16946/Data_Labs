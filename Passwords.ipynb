{
  "nbformat": 4,
  "nbformat_minor": 0,
  "metadata": {
    "colab": {
      "name": "Passwords.ipynb",
      "provenance": [],
      "collapsed_sections": [],
      "authorship_tag": "ABX9TyMAoAT0C3l0kEuqu6sBQTha",
      "include_colab_link": true
    },
    "kernelspec": {
      "name": "python3",
      "display_name": "Python 3"
    }
  },
  "cells": [
    {
      "cell_type": "markdown",
      "metadata": {
        "id": "view-in-github",
        "colab_type": "text"
      },
      "source": [
        "<a href=\"https://colab.research.google.com/github/he16946/Data_Labs/blob/master/Passwords.ipynb\" target=\"_parent\"><img src=\"https://colab.research.google.com/assets/colab-badge.svg\" alt=\"Open In Colab\"/></a>"
      ]
    },
    {
      "cell_type": "markdown",
      "metadata": {
        "id": "3PQJQqhvj2Ms",
        "colab_type": "text"
      },
      "source": [
        "# Password Strength Data"
      ]
    },
    {
      "cell_type": "code",
      "metadata": {
        "id": "Ek9228DSSK4O",
        "colab_type": "code",
        "colab": {}
      },
      "source": [
        "import os\n",
        "import pandas as pd\n",
        "import numpy as np\n",
        "from numpy.random import rand\n",
        "import matplotlib.pyplot as plt\n",
        "from matplotlib.pyplot import figure"
      ],
      "execution_count": 0,
      "outputs": []
    },
    {
      "cell_type": "code",
      "metadata": {
        "id": "102gO9MeumFC",
        "colab_type": "code",
        "outputId": "89af37ac-ff53-4552-beec-5a1d853b10e7",
        "colab": {
          "base_uri": "https://localhost:8080/",
          "height": 66
        }
      },
      "source": [
        "os.environ['KAGGLE_USERNAME'] = \"ce889group3\" # username from the json file\n",
        "\n",
        "os.environ['KAGGLE_KEY'] = \"2fec783dbd857229b51562347fd33dfe\" # key from the json file\n",
        "\n",
        "! kaggle datasets download -d bhavikbb/password-strength-classifier-dataset\n",
        "! unzip -q \"password-strength-classifier-dataset.zip\""
      ],
      "execution_count": 2,
      "outputs": [
        {
          "output_type": "stream",
          "text": [
            "Downloading password-strength-classifier-dataset.zip to /content\n",
            "\r  0% 0.00/5.01M [00:00<?, ?B/s]\n",
            "\r100% 5.01M/5.01M [00:00<00:00, 81.4MB/s]\n"
          ],
          "name": "stdout"
        }
      ]
    },
    {
      "cell_type": "code",
      "metadata": {
        "id": "gV6LvnepVmk-",
        "colab_type": "code",
        "colab": {}
      },
      "source": [
        "df = pd.read_csv(\"data.csv\", error_bad_lines=False)\n",
        "df.shape"
      ],
      "execution_count": 0,
      "outputs": []
    },
    {
      "cell_type": "markdown",
      "metadata": {
        "id": "aL3N-CExN_vw",
        "colab_type": "text"
      },
      "source": [
        "## Data is 2 columns, one showing the password, the second showing its strength"
      ]
    },
    {
      "cell_type": "code",
      "metadata": {
        "id": "EKDdPTtqm6UB",
        "colab_type": "code",
        "outputId": "d0903936-8c74-4f3b-f374-6b5534393921",
        "colab": {
          "base_uri": "https://localhost:8080/",
          "height": 191
        }
      },
      "source": [
        "df.head()"
      ],
      "execution_count": 4,
      "outputs": [
        {
          "output_type": "execute_result",
          "data": {
            "text/html": [
              "<div>\n",
              "<style scoped>\n",
              "    .dataframe tbody tr th:only-of-type {\n",
              "        vertical-align: middle;\n",
              "    }\n",
              "\n",
              "    .dataframe tbody tr th {\n",
              "        vertical-align: top;\n",
              "    }\n",
              "\n",
              "    .dataframe thead th {\n",
              "        text-align: right;\n",
              "    }\n",
              "</style>\n",
              "<table border=\"1\" class=\"dataframe\">\n",
              "  <thead>\n",
              "    <tr style=\"text-align: right;\">\n",
              "      <th></th>\n",
              "      <th>password</th>\n",
              "      <th>strength</th>\n",
              "    </tr>\n",
              "  </thead>\n",
              "  <tbody>\n",
              "    <tr>\n",
              "      <th>0</th>\n",
              "      <td>kzde5577</td>\n",
              "      <td>1</td>\n",
              "    </tr>\n",
              "    <tr>\n",
              "      <th>1</th>\n",
              "      <td>kino3434</td>\n",
              "      <td>1</td>\n",
              "    </tr>\n",
              "    <tr>\n",
              "      <th>2</th>\n",
              "      <td>visi7k1yr</td>\n",
              "      <td>1</td>\n",
              "    </tr>\n",
              "    <tr>\n",
              "      <th>3</th>\n",
              "      <td>megzy123</td>\n",
              "      <td>1</td>\n",
              "    </tr>\n",
              "    <tr>\n",
              "      <th>4</th>\n",
              "      <td>lamborghin1</td>\n",
              "      <td>1</td>\n",
              "    </tr>\n",
              "  </tbody>\n",
              "</table>\n",
              "</div>"
            ],
            "text/plain": [
              "      password  strength\n",
              "0     kzde5577         1\n",
              "1     kino3434         1\n",
              "2    visi7k1yr         1\n",
              "3     megzy123         1\n",
              "4  lamborghin1         1"
            ]
          },
          "metadata": {
            "tags": []
          },
          "execution_count": 4
        }
      ]
    },
    {
      "cell_type": "markdown",
      "metadata": {
        "id": "amtefy_cOj-a",
        "colab_type": "text"
      },
      "source": [
        "## Cleaning up data and removing NaNs"
      ]
    },
    {
      "cell_type": "code",
      "metadata": {
        "id": "PmKn4UHswOTC",
        "colab_type": "code",
        "outputId": "2e1fdbd5-a1e9-49c4-91da-be53922fe70e",
        "colab": {
          "base_uri": "https://localhost:8080/",
          "height": 66
        }
      },
      "source": [
        "df.columns\n",
        "\n",
        "#check for nans\n",
        "df.isna().sum() "
      ],
      "execution_count": 5,
      "outputs": [
        {
          "output_type": "execute_result",
          "data": {
            "text/plain": [
              "password    1\n",
              "strength    0\n",
              "dtype: int64"
            ]
          },
          "metadata": {
            "tags": []
          },
          "execution_count": 5
        }
      ]
    },
    {
      "cell_type": "code",
      "metadata": {
        "id": "qbbPYT229Spb",
        "colab_type": "code",
        "outputId": "0d82ff57-e5a3-4713-cfe2-eba26d3c5fbd",
        "colab": {
          "base_uri": "https://localhost:8080/",
          "height": 76
        }
      },
      "source": [
        "#find and remove nan value\n",
        "df[df.isnull().any(axis=1)]"
      ],
      "execution_count": 6,
      "outputs": [
        {
          "output_type": "execute_result",
          "data": {
            "text/html": [
              "<div>\n",
              "<style scoped>\n",
              "    .dataframe tbody tr th:only-of-type {\n",
              "        vertical-align: middle;\n",
              "    }\n",
              "\n",
              "    .dataframe tbody tr th {\n",
              "        vertical-align: top;\n",
              "    }\n",
              "\n",
              "    .dataframe thead th {\n",
              "        text-align: right;\n",
              "    }\n",
              "</style>\n",
              "<table border=\"1\" class=\"dataframe\">\n",
              "  <thead>\n",
              "    <tr style=\"text-align: right;\">\n",
              "      <th></th>\n",
              "      <th>password</th>\n",
              "      <th>strength</th>\n",
              "    </tr>\n",
              "  </thead>\n",
              "  <tbody>\n",
              "    <tr>\n",
              "      <th>367579</th>\n",
              "      <td>NaN</td>\n",
              "      <td>0</td>\n",
              "    </tr>\n",
              "  </tbody>\n",
              "</table>\n",
              "</div>"
            ],
            "text/plain": [
              "       password  strength\n",
              "367579      NaN         0"
            ]
          },
          "metadata": {
            "tags": []
          },
          "execution_count": 6
        }
      ]
    },
    {
      "cell_type": "code",
      "metadata": {
        "id": "NBB7qWWR-Y5d",
        "colab_type": "code",
        "colab": {}
      },
      "source": [
        "df = df.dropna()"
      ],
      "execution_count": 0,
      "outputs": []
    },
    {
      "cell_type": "markdown",
      "metadata": {
        "id": "n4OiojbTOruy",
        "colab_type": "text"
      },
      "source": [
        "## Check for balance of data, classified into medium (74.19%) and other (25.81%)"
      ]
    },
    {
      "cell_type": "code",
      "metadata": {
        "id": "6p7UeJGUnbNk",
        "colab_type": "code",
        "outputId": "b8d155d1-7247-40e7-8e17-e8c6dc555642",
        "colab": {
          "base_uri": "https://localhost:8080/",
          "height": 66
        }
      },
      "source": [
        "print('Weak', round(df['strength'].value_counts()[0]/len(df) * 100,2), '% of the dataset')\n",
        "print('Medium', round(df['strength'].value_counts()[1]/len(df) * 100,2), '% of the dataset')\n",
        "print('Strong', round(df['strength'].value_counts()[2]/len(df) * 100,2), '% of the dataset')"
      ],
      "execution_count": 0,
      "outputs": [
        {
          "output_type": "stream",
          "text": [
            "Weak 13.4 % of the dataset\n",
            "Medium 74.19 % of the dataset\n",
            "Strong 12.42 % of the dataset\n"
          ],
          "name": "stdout"
        }
      ]
    },
    {
      "cell_type": "code",
      "metadata": {
        "id": "-rPAZEuwwYaR",
        "colab_type": "code",
        "outputId": "7a34ac22-7b91-4342-926c-096796ffb395",
        "colab": {
          "base_uri": "https://localhost:8080/",
          "height": 375
        }
      },
      "source": [
        "plt.title('Histogram of Strengths \\n 0: Weak || 1: Medium || 2: Strong')\n",
        "plt.xlabel('Class')\n",
        "plt.hist(df['strength'])"
      ],
      "execution_count": 8,
      "outputs": [
        {
          "output_type": "execute_result",
          "data": {
            "text/plain": [
              "(array([ 89701.,      0.,      0.,      0.,      0., 496801.,      0.,\n",
              "             0.,      0.,  83137.]),\n",
              " array([0. , 0.2, 0.4, 0.6, 0.8, 1. , 1.2, 1.4, 1.6, 1.8, 2. ]),\n",
              " <a list of 10 Patch objects>)"
            ]
          },
          "metadata": {
            "tags": []
          },
          "execution_count": 8
        },
        {
          "output_type": "display_data",
          "data": {
            "image/png": "[encoded data removed]",
            "text/plain": [
              "<Figure size 432x288 with 1 Axes>"
            ]
          },
          "metadata": {
            "tags": []
          }
        }
      ]
    },
    {
      "cell_type": "markdown",
      "metadata": {
        "id": "mude_Sc4PMLb",
        "colab_type": "text"
      },
      "source": [
        "## Extracting features from data (password length, upper-case, lower-case, numbers, special characters) and their correlation with strength "
      ]
    },
    {
      "cell_type": "code",
      "metadata": {
        "id": "qtj7YCU51MOZ",
        "colab_type": "code",
        "colab": {}
      },
      "source": [
        "lengths = df['password'].str.len()"
      ],
      "execution_count": 0,
      "outputs": []
    },
    {
      "cell_type": "code",
      "metadata": {
        "id": "vJHb9grb3pUI",
        "colab_type": "code",
        "colab": {}
      },
      "source": [
        "df.insert(2, 'length', lengths)"
      ],
      "execution_count": 0,
      "outputs": []
    },
    {
      "cell_type": "code",
      "metadata": {
        "id": "T73cWPAq45sm",
        "colab_type": "code",
        "outputId": "f5f24929-24d3-4181-e44a-b98e2bd063a6",
        "colab": {
          "base_uri": "https://localhost:8080/",
          "height": 191
        }
      },
      "source": [
        "df.head()"
      ],
      "execution_count": 11,
      "outputs": [
        {
          "output_type": "execute_result",
          "data": {
            "text/html": [
              "<div>\n",
              "<style scoped>\n",
              "    .dataframe tbody tr th:only-of-type {\n",
              "        vertical-align: middle;\n",
              "    }\n",
              "\n",
              "    .dataframe tbody tr th {\n",
              "        vertical-align: top;\n",
              "    }\n",
              "\n",
              "    .dataframe thead th {\n",
              "        text-align: right;\n",
              "    }\n",
              "</style>\n",
              "<table border=\"1\" class=\"dataframe\">\n",
              "  <thead>\n",
              "    <tr style=\"text-align: right;\">\n",
              "      <th></th>\n",
              "      <th>password</th>\n",
              "      <th>strength</th>\n",
              "      <th>length</th>\n",
              "    </tr>\n",
              "  </thead>\n",
              "  <tbody>\n",
              "    <tr>\n",
              "      <th>0</th>\n",
              "      <td>kzde5577</td>\n",
              "      <td>1</td>\n",
              "      <td>8</td>\n",
              "    </tr>\n",
              "    <tr>\n",
              "      <th>1</th>\n",
              "      <td>kino3434</td>\n",
              "      <td>1</td>\n",
              "      <td>8</td>\n",
              "    </tr>\n",
              "    <tr>\n",
              "      <th>2</th>\n",
              "      <td>visi7k1yr</td>\n",
              "      <td>1</td>\n",
              "      <td>9</td>\n",
              "    </tr>\n",
              "    <tr>\n",
              "      <th>3</th>\n",
              "      <td>megzy123</td>\n",
              "      <td>1</td>\n",
              "      <td>8</td>\n",
              "    </tr>\n",
              "    <tr>\n",
              "      <th>4</th>\n",
              "      <td>lamborghin1</td>\n",
              "      <td>1</td>\n",
              "      <td>11</td>\n",
              "    </tr>\n",
              "  </tbody>\n",
              "</table>\n",
              "</div>"
            ],
            "text/plain": [
              "      password  strength  length\n",
              "0     kzde5577         1       8\n",
              "1     kino3434         1       8\n",
              "2    visi7k1yr         1       9\n",
              "3     megzy123         1       8\n",
              "4  lamborghin1         1      11"
            ]
          },
          "metadata": {
            "tags": []
          },
          "execution_count": 11
        }
      ]
    },
    {
      "cell_type": "code",
      "metadata": {
        "colab_type": "code",
        "outputId": "93e2a386-7346-4ff9-9b81-cb09b376973e",
        "id": "i0fyGHAEFdet",
        "colab": {
          "base_uri": "https://localhost:8080/",
          "height": 311
        }
      },
      "source": [
        "y = df['length']\n",
        "x = df['strength']\n",
        "area = (30 * np.random.rand(669639))**2  # 0 to 15 point radii\n",
        "colors = np.random.rand(669639)\n",
        "plt.title('Length/Strength Correlation')\n",
        "plt.xlabel('Strength')\n",
        "plt.xticks([0,1,2], ['Weak', 'Medium', 'Strong'])\n",
        "plt.ylabel('Length')\n",
        "plt.scatter(x,y, s=area, c = colors, alpha = 0.5)"
      ],
      "execution_count": 12,
      "outputs": [
        {
          "output_type": "execute_result",
          "data": {
            "text/plain": [
              "<matplotlib.collections.PathCollection at 0x7f2adfb3cb70>"
            ]
          },
          "metadata": {
            "tags": []
          },
          "execution_count": 12
        },
        {
          "output_type": "display_data",
          "data": {
            "image/png": "[encoded data removed]",
            "text/plain": [
              "<Figure size 432x288 with 1 Axes>"
            ]
          },
          "metadata": {
            "tags": []
          }
        }
      ]
    },
    {
      "cell_type": "code",
      "metadata": {
        "id": "gMS1h2EuSNO2",
        "colab_type": "code",
        "outputId": "f0c5edda-f4cd-4f0e-f229-17676d807500",
        "colab": {
          "base_uri": "https://localhost:8080/",
          "height": 191
        }
      },
      "source": [
        "def split(word): \n",
        "    return [char for char in word] \n",
        "\n",
        "#return number of uppercase characters\n",
        "def upper_case(word):\n",
        "  count = 0 \n",
        "  for x in word:\n",
        "    for char in x:\n",
        "     if char.isupper():\n",
        "        count = count + 1\n",
        "  return count\n",
        "  count = 0 \n",
        "\n",
        "#return number of lowercase characters\n",
        "def lower_case(word):\n",
        "  count = 0 \n",
        "  for x in word:\n",
        "    for char in x:\n",
        "     if char.islower():\n",
        "        count = count + 1\n",
        "  return count\n",
        "  count = 0 \n",
        "\n",
        "#return number of digit characters\n",
        "def number(word):\n",
        "  count = 0 \n",
        "  for x in word:\n",
        "    for char in x:\n",
        "     if char.isdigit():\n",
        "        count = count + 1\n",
        "  return count\n",
        "  count = 0 \n",
        "\n",
        "#return number of all other characters\n",
        "def spesh(word):\n",
        "  for x in word:\n",
        "    return len(word) - (number(word) + lower_case(word) + upper_case(word))\n",
        "\n",
        "df['upper'] = df['password'].apply(lambda x: upper_case(x))\n",
        "df['lower'] = df['password'].apply(lambda x: lower_case(x))\n",
        "df['numbers'] = df['password'].apply(lambda x: number(x))\n",
        "df['special_characters'] = df['password'].apply(lambda x: spesh(x))\n",
        "df.head()"
      ],
      "execution_count": 13,
      "outputs": [
        {
          "output_type": "execute_result",
          "data": {
            "text/html": [
              "<div>\n",
              "<style scoped>\n",
              "    .dataframe tbody tr th:only-of-type {\n",
              "        vertical-align: middle;\n",
              "    }\n",
              "\n",
              "    .dataframe tbody tr th {\n",
              "        vertical-align: top;\n",
              "    }\n",
              "\n",
              "    .dataframe thead th {\n",
              "        text-align: right;\n",
              "    }\n",
              "</style>\n",
              "<table border=\"1\" class=\"dataframe\">\n",
              "  <thead>\n",
              "    <tr style=\"text-align: right;\">\n",
              "      <th></th>\n",
              "      <th>password</th>\n",
              "      <th>strength</th>\n",
              "      <th>length</th>\n",
              "      <th>upper</th>\n",
              "      <th>lower</th>\n",
              "      <th>numbers</th>\n",
              "      <th>special_characters</th>\n",
              "    </tr>\n",
              "  </thead>\n",
              "  <tbody>\n",
              "    <tr>\n",
              "      <th>0</th>\n",
              "      <td>kzde5577</td>\n",
              "      <td>1</td>\n",
              "      <td>8</td>\n",
              "      <td>0</td>\n",
              "      <td>4</td>\n",
              "      <td>4</td>\n",
              "      <td>0</td>\n",
              "    </tr>\n",
              "    <tr>\n",
              "      <th>1</th>\n",
              "      <td>kino3434</td>\n",
              "      <td>1</td>\n",
              "      <td>8</td>\n",
              "      <td>0</td>\n",
              "      <td>4</td>\n",
              "      <td>4</td>\n",
              "      <td>0</td>\n",
              "    </tr>\n",
              "    <tr>\n",
              "      <th>2</th>\n",
              "      <td>visi7k1yr</td>\n",
              "      <td>1</td>\n",
              "      <td>9</td>\n",
              "      <td>0</td>\n",
              "      <td>7</td>\n",
              "      <td>2</td>\n",
              "      <td>0</td>\n",
              "    </tr>\n",
              "    <tr>\n",
              "      <th>3</th>\n",
              "      <td>megzy123</td>\n",
              "      <td>1</td>\n",
              "      <td>8</td>\n",
              "      <td>0</td>\n",
              "      <td>5</td>\n",
              "      <td>3</td>\n",
              "      <td>0</td>\n",
              "    </tr>\n",
              "    <tr>\n",
              "      <th>4</th>\n",
              "      <td>lamborghin1</td>\n",
              "      <td>1</td>\n",
              "      <td>11</td>\n",
              "      <td>0</td>\n",
              "      <td>10</td>\n",
              "      <td>1</td>\n",
              "      <td>0</td>\n",
              "    </tr>\n",
              "  </tbody>\n",
              "</table>\n",
              "</div>"
            ],
            "text/plain": [
              "      password  strength  length  upper  lower  numbers  special_characters\n",
              "0     kzde5577         1       8      0      4        4                   0\n",
              "1     kino3434         1       8      0      4        4                   0\n",
              "2    visi7k1yr         1       9      0      7        2                   0\n",
              "3     megzy123         1       8      0      5        3                   0\n",
              "4  lamborghin1         1      11      0     10        1                   0"
            ]
          },
          "metadata": {
            "tags": []
          },
          "execution_count": 13
        }
      ]
    },
    {
      "cell_type": "code",
      "metadata": {
        "id": "QtODHTLKi8Dn",
        "colab_type": "code",
        "outputId": "e4353492-fa3d-4cd1-9bab-6c1e1bc96894",
        "colab": {
          "base_uri": "https://localhost:8080/",
          "height": 311
        }
      },
      "source": [
        "y = df['numbers']\n",
        "x = df['strength']\n",
        "area = (30 * np.random.rand(669639))**2  # 0 to 15 point radii\n",
        "colors = np.random.rand(669639)\n",
        "plt.title('Number/Strength Correlation')\n",
        "plt.xticks([0,1,2], ['Weak', 'Medium', 'Strong'])\n",
        "plt.xlabel('Strength')\n",
        "plt.scatter(x,y, s=area, c = colors, alpha = 0.5)"
      ],
      "execution_count": 14,
      "outputs": [
        {
          "output_type": "execute_result",
          "data": {
            "text/plain": [
              "<matplotlib.collections.PathCollection at 0x7f2add2b5908>"
            ]
          },
          "metadata": {
            "tags": []
          },
          "execution_count": 14
        },
        {
          "output_type": "display_data",
          "data": {
            "image/png": "[encoded data removed]",
            "text/plain": [
              "<Figure size 432x288 with 1 Axes>"
            ]
          },
          "metadata": {
            "tags": []
          }
        }
      ]
    },
    {
      "cell_type": "code",
      "metadata": {
        "id": "R9xhR9nzm8UO",
        "colab_type": "code",
        "outputId": "14c9cf07-9f37-48bc-ee99-d53ecc77d1c0",
        "colab": {
          "base_uri": "https://localhost:8080/",
          "height": 311
        }
      },
      "source": [
        "y = df['upper']\n",
        "x = df['strength']\n",
        "area = (30 * np.random.rand(669639))**2  # 0 to 15 point radii\n",
        "colors = np.random.rand(669639)\n",
        "plt.title('Upper-case/Strength Correlation')\n",
        "plt.xticks([0,1,2], ['Weak', 'Medium', 'Strong'])\n",
        "plt.xlabel('Strength')\n",
        "plt.scatter(x,y, s=area, c = colors, alpha=0.5)"
      ],
      "execution_count": 15,
      "outputs": [
        {
          "output_type": "execute_result",
          "data": {
            "text/plain": [
              "<matplotlib.collections.PathCollection at 0x7f2add28eda0>"
            ]
          },
          "metadata": {
            "tags": []
          },
          "execution_count": 15
        },
        {
          "output_type": "display_data",
          "data": {
            "image/png": "[encoded data removed]",
            "text/plain": [
              "<Figure size 432x288 with 1 Axes>"
            ]
          },
          "metadata": {
            "tags": []
          }
        }
      ]
    },
    {
      "cell_type": "code",
      "metadata": {
        "id": "8zbAyKjCjV6D",
        "colab_type": "code",
        "colab": {
          "base_uri": "https://localhost:8080/",
          "height": 311
        },
        "outputId": "63773a51-14b0-46ce-9a60-ba6f03b254c1"
      },
      "source": [
        "y = df['special_characters']\n",
        "x = df['strength']\n",
        "area = (30 * np.random.rand(669639))**2  # 0 to 15 point radii\n",
        "colors = np.random.rand(669639)\n",
        "plt.title('Special Characters/Strength Correlation')\n",
        "plt.xticks([0,1,2], ['Weak', 'Medium', 'Strong'])\n",
        "plt.xlabel('Strength')\n",
        "plt.scatter(x,y, s=area, c = colors, alpha = 0.5)"
      ],
      "execution_count": 16,
      "outputs": [
        {
          "output_type": "execute_result",
          "data": {
            "text/plain": [
              "<matplotlib.collections.PathCollection at 0x7f2add1ef668>"
            ]
          },
          "metadata": {
            "tags": []
          },
          "execution_count": 16
        },
        {
          "output_type": "display_data",
          "data": {
            "image/png": "[encoded data removed]",
            "text/plain": [
              "<Figure size 432x288 with 1 Axes>"
            ]
          },
          "metadata": {
            "tags": []
          }
        }
      ]
    },
    {
      "cell_type": "code",
      "metadata": {
        "id": "pnTHfUEXjKRD",
        "colab_type": "code",
        "outputId": "16a01bb3-38bc-4c65-aa36-f051cb28c93d",
        "colab": {
          "base_uri": "https://localhost:8080/",
          "height": 382
        }
      },
      "source": [
        "corrmatrix = np.corrcoef([df['strength'], df['length'], df['upper'], df['numbers'] ,df['special_characters'], df['lower']])\n",
        "print(corrmatrix)\n",
        "# Plot corr matrix as image\n",
        "plt.imshow(corrmatrix, cmap='Reds')\n",
        "plt.colorbar()"
      ],
      "execution_count": 17,
      "outputs": [
        {
          "output_type": "stream",
          "text": [
            "[[ 1.          0.8368168   0.62051229  0.1754692   0.15476485  0.2261018 ]\n",
            " [ 0.8368168   1.          0.667152    0.16856542  0.22485964  0.37049805]\n",
            " [ 0.62051229  0.667152    1.         -0.08135082  0.00706055 -0.1023082 ]\n",
            " [ 0.1754692   0.16856542 -0.08135082  1.          0.02323103 -0.56656363]\n",
            " [ 0.15476485  0.22485964  0.00706055  0.02323103  1.          0.09734554]\n",
            " [ 0.2261018   0.37049805 -0.1023082  -0.56656363  0.09734554  1.        ]]\n"
          ],
          "name": "stdout"
        },
        {
          "output_type": "execute_result",
          "data": {
            "text/plain": [
              "<matplotlib.colorbar.Colorbar at 0x7f2add16d9e8>"
            ]
          },
          "metadata": {
            "tags": []
          },
          "execution_count": 17
        },
        {
          "output_type": "display_data",
          "data": {
            "image/png": "[encoded data removed]",
            "text/plain": [
              "<Figure size 432x288 with 2 Axes>"
            ]
          },
          "metadata": {
            "tags": []
          }
        }
      ]
    }
  ]
}