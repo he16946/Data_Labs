{
  "nbformat": 4,
  "nbformat_minor": 0,
  "metadata": {
    "colab": {
      "name": "BlackJack.ipynb",
      "provenance": [],
      "authorship_tag": "ABX9TyOKWoe3RLOlxCr+UlLLLXfN",
      "include_colab_link": true
    },
    "kernelspec": {
      "name": "python3",
      "display_name": "Python 3"
    }
  },
  "cells": [
    {
      "cell_type": "markdown",
      "metadata": {
        "id": "view-in-github",
        "colab_type": "text"
      },
      "source": [
        "<a href=\"https://colab.research.google.com/github/he16946/Data_Labs/blob/master/BlackJack.ipynb\" target=\"_parent\"><img src=\"https://colab.research.google.com/assets/colab-badge.svg\" alt=\"Open In Colab\"/></a>"
      ]
    },
    {
      "cell_type": "markdown",
      "metadata": {
        "id": "LlfHL3vErBLe",
        "colab_type": "text"
      },
      "source": [
        "# Black Jack Data"
      ]
    },
    {
      "cell_type": "code",
      "metadata": {
        "id": "L4qNqBxPZZ_t",
        "colab_type": "code",
        "colab": {}
      },
      "source": [
        "import os\n",
        "import pandas as pd\n",
        "import matplotlib.pyplot as plt"
      ],
      "execution_count": 0,
      "outputs": []
    },
    {
      "cell_type": "code",
      "metadata": {
        "id": "CPAyu7Iiv0-1",
        "colab_type": "code",
        "colab": {
          "base_uri": "https://localhost:8080/",
          "height": 66
        },
        "outputId": "113befe5-dc5c-446a-b081-58da461be7c5"
      },
      "source": [
        "os.environ['KAGGLE_USERNAME'] = \"ce889group3\" # username from the json file\n",
        "\n",
        "os.environ['KAGGLE_KEY'] = \"2fec783dbd857229b51562347fd33dfe\" # key from the json file\n",
        "\n",
        "! kaggle datasets download -d mojocolors/900000-hands-of-blackjack-results\n",
        "! unzip -q \"900000-hands-of-blackjack-results.zip\""
      ],
      "execution_count": 2,
      "outputs": [
        {
          "output_type": "stream",
          "text": [
            "Downloading 900000-hands-of-blackjack-results.zip to /content\n",
            " 70% 5.00M/7.14M [00:00<00:00, 32.3MB/s]\n",
            "100% 7.14M/7.14M [00:00<00:00, 34.1MB/s]\n"
          ],
          "name": "stdout"
        }
      ]
    },
    {
      "cell_type": "code",
      "metadata": {
        "id": "IwG72E97jdcH",
        "colab_type": "code",
        "colab": {}
      },
      "source": [
        "df = pd.read_csv(\"blkjckhands.csv\")"
      ],
      "execution_count": 0,
      "outputs": []
    },
    {
      "cell_type": "code",
      "metadata": {
        "id": "hKJcdWxOjo5o",
        "colab_type": "code",
        "outputId": "3f88834c-228c-4f1a-cdb5-a6213ec8edda",
        "colab": {
          "base_uri": "https://localhost:8080/",
          "height": 227
        }
      },
      "source": [
        "df.head()"
      ],
      "execution_count": 4,
      "outputs": [
        {
          "output_type": "execute_result",
          "data": {
            "text/html": [
              "<div>\n",
              "<style scoped>\n",
              "    .dataframe tbody tr th:only-of-type {\n",
              "        vertical-align: middle;\n",
              "    }\n",
              "\n",
              "    .dataframe tbody tr th {\n",
              "        vertical-align: top;\n",
              "    }\n",
              "\n",
              "    .dataframe thead th {\n",
              "        text-align: right;\n",
              "    }\n",
              "</style>\n",
              "<table border=\"1\" class=\"dataframe\">\n",
              "  <thead>\n",
              "    <tr style=\"text-align: right;\">\n",
              "      <th></th>\n",
              "      <th>Unnamed: 0</th>\n",
              "      <th>PlayerNo</th>\n",
              "      <th>card1</th>\n",
              "      <th>card2</th>\n",
              "      <th>card3</th>\n",
              "      <th>card4</th>\n",
              "      <th>card5</th>\n",
              "      <th>sumofcards</th>\n",
              "      <th>dealcard1</th>\n",
              "      <th>dealcard2</th>\n",
              "      <th>dealcard3</th>\n",
              "      <th>dealcard4</th>\n",
              "      <th>dealcard5</th>\n",
              "      <th>sumofdeal</th>\n",
              "      <th>blkjck</th>\n",
              "      <th>winloss</th>\n",
              "      <th>plybustbeat</th>\n",
              "      <th>dlbustbeat</th>\n",
              "      <th>plwinamt</th>\n",
              "      <th>dlwinamt</th>\n",
              "      <th>ply2cardsum</th>\n",
              "    </tr>\n",
              "  </thead>\n",
              "  <tbody>\n",
              "    <tr>\n",
              "      <th>0</th>\n",
              "      <td>0</td>\n",
              "      <td>Player1</td>\n",
              "      <td>7</td>\n",
              "      <td>10</td>\n",
              "      <td>0</td>\n",
              "      <td>0</td>\n",
              "      <td>0</td>\n",
              "      <td>17</td>\n",
              "      <td>10</td>\n",
              "      <td>8</td>\n",
              "      <td>0</td>\n",
              "      <td>0</td>\n",
              "      <td>0</td>\n",
              "      <td>18</td>\n",
              "      <td>nowin</td>\n",
              "      <td>Loss</td>\n",
              "      <td>Beat</td>\n",
              "      <td>Dlwin</td>\n",
              "      <td>0</td>\n",
              "      <td>10</td>\n",
              "      <td>17</td>\n",
              "    </tr>\n",
              "    <tr>\n",
              "      <th>1</th>\n",
              "      <td>1</td>\n",
              "      <td>Player2</td>\n",
              "      <td>10</td>\n",
              "      <td>9</td>\n",
              "      <td>0</td>\n",
              "      <td>0</td>\n",
              "      <td>0</td>\n",
              "      <td>19</td>\n",
              "      <td>10</td>\n",
              "      <td>8</td>\n",
              "      <td>0</td>\n",
              "      <td>0</td>\n",
              "      <td>0</td>\n",
              "      <td>18</td>\n",
              "      <td>nowin</td>\n",
              "      <td>Win</td>\n",
              "      <td>Plwin</td>\n",
              "      <td>Beat</td>\n",
              "      <td>20</td>\n",
              "      <td>0</td>\n",
              "      <td>19</td>\n",
              "    </tr>\n",
              "    <tr>\n",
              "      <th>2</th>\n",
              "      <td>2</td>\n",
              "      <td>Player3</td>\n",
              "      <td>9</td>\n",
              "      <td>8</td>\n",
              "      <td>0</td>\n",
              "      <td>0</td>\n",
              "      <td>0</td>\n",
              "      <td>17</td>\n",
              "      <td>10</td>\n",
              "      <td>8</td>\n",
              "      <td>0</td>\n",
              "      <td>0</td>\n",
              "      <td>0</td>\n",
              "      <td>18</td>\n",
              "      <td>nowin</td>\n",
              "      <td>Loss</td>\n",
              "      <td>Beat</td>\n",
              "      <td>Dlwin</td>\n",
              "      <td>0</td>\n",
              "      <td>10</td>\n",
              "      <td>17</td>\n",
              "    </tr>\n",
              "    <tr>\n",
              "      <th>3</th>\n",
              "      <td>3</td>\n",
              "      <td>Player4</td>\n",
              "      <td>2</td>\n",
              "      <td>10</td>\n",
              "      <td>0</td>\n",
              "      <td>5</td>\n",
              "      <td>0</td>\n",
              "      <td>17</td>\n",
              "      <td>10</td>\n",
              "      <td>8</td>\n",
              "      <td>0</td>\n",
              "      <td>0</td>\n",
              "      <td>0</td>\n",
              "      <td>18</td>\n",
              "      <td>nowin</td>\n",
              "      <td>Loss</td>\n",
              "      <td>Beat</td>\n",
              "      <td>Dlwin</td>\n",
              "      <td>0</td>\n",
              "      <td>10</td>\n",
              "      <td>12</td>\n",
              "    </tr>\n",
              "    <tr>\n",
              "      <th>4</th>\n",
              "      <td>4</td>\n",
              "      <td>Player5</td>\n",
              "      <td>10</td>\n",
              "      <td>2</td>\n",
              "      <td>0</td>\n",
              "      <td>5</td>\n",
              "      <td>0</td>\n",
              "      <td>17</td>\n",
              "      <td>10</td>\n",
              "      <td>8</td>\n",
              "      <td>0</td>\n",
              "      <td>0</td>\n",
              "      <td>0</td>\n",
              "      <td>18</td>\n",
              "      <td>nowin</td>\n",
              "      <td>Loss</td>\n",
              "      <td>Beat</td>\n",
              "      <td>Dlwin</td>\n",
              "      <td>0</td>\n",
              "      <td>10</td>\n",
              "      <td>12</td>\n",
              "    </tr>\n",
              "  </tbody>\n",
              "</table>\n",
              "</div>"
            ],
            "text/plain": [
              "   Unnamed: 0 PlayerNo  card1  ...  plwinamt  dlwinamt  ply2cardsum\n",
              "0           0  Player1      7  ...         0        10           17\n",
              "1           1  Player2     10  ...        20         0           19\n",
              "2           2  Player3      9  ...         0        10           17\n",
              "3           3  Player4      2  ...         0        10           12\n",
              "4           4  Player5     10  ...         0        10           12\n",
              "\n",
              "[5 rows x 21 columns]"
            ]
          },
          "metadata": {
            "tags": []
          },
          "execution_count": 4
        }
      ]
    },
    {
      "cell_type": "code",
      "metadata": {
        "id": "TSNRKyn8pZAy",
        "colab_type": "code",
        "outputId": "ba59a7ab-b7d7-46e8-bfe8-f2aaf2e28ec1",
        "colab": {
          "base_uri": "https://localhost:8080/",
          "height": 98
        }
      },
      "source": [
        "df.columns"
      ],
      "execution_count": 5,
      "outputs": [
        {
          "output_type": "execute_result",
          "data": {
            "text/plain": [
              "Index(['Unnamed: 0', 'PlayerNo', 'card1', 'card2', 'card3', 'card4', 'card5',\n",
              "       'sumofcards', 'dealcard1', 'dealcard2', 'dealcard3', 'dealcard4',\n",
              "       'dealcard5', 'sumofdeal', 'blkjck', 'winloss', 'plybustbeat',\n",
              "       'dlbustbeat', 'plwinamt', 'dlwinamt', 'ply2cardsum'],\n",
              "      dtype='object')"
            ]
          },
          "metadata": {
            "tags": []
          },
          "execution_count": 5
        }
      ]
    },
    {
      "cell_type": "markdown",
      "metadata": {
        "id": "RG6M9Jz2qwug",
        "colab_type": "text"
      },
      "source": [
        "## Find imbalance of dataset"
      ]
    },
    {
      "cell_type": "code",
      "metadata": {
        "id": "-OtYdNims9_M",
        "colab_type": "code",
        "outputId": "f63fd726-41eb-4e9c-cc26-701d9fef4113",
        "colab": {
          "base_uri": "https://localhost:8080/",
          "height": 66
        }
      },
      "source": [
        "df['blkjck'] = df['blkjck'].replace({'blkjck': {'Win': 1, 'nowin': 0}})\n",
        "df['blkjck'].value_counts()"
      ],
      "execution_count": 6,
      "outputs": [
        {
          "output_type": "execute_result",
          "data": {
            "text/plain": [
              "nowin    856939\n",
              "Win       43061\n",
              "Name: blkjck, dtype: int64"
            ]
          },
          "metadata": {
            "tags": []
          },
          "execution_count": 6
        }
      ]
    },
    {
      "cell_type": "code",
      "metadata": {
        "id": "GeF1gX_Zjrrk",
        "colab_type": "code",
        "outputId": "1a7804c3-9f3c-44e3-9cb0-59ecb198950e",
        "colab": {
          "base_uri": "https://localhost:8080/",
          "height": 50
        }
      },
      "source": [
        "print('Black Jack', round(df['blkjck'].value_counts()[1]/len(df) * 100,2), '% of the dataset')\n",
        "print('No Black Jack', round(df['blkjck'].value_counts()[0]/len(df) * 100,2), '% of the dataset')"
      ],
      "execution_count": 7,
      "outputs": [
        {
          "output_type": "stream",
          "text": [
            "Black Jack 4.78 % of the dataset\n",
            "No Black Jack 95.22 % of the dataset\n"
          ],
          "name": "stdout"
        }
      ]
    },
    {
      "cell_type": "code",
      "metadata": {
        "id": "SZKXuQe_vNcY",
        "colab_type": "code",
        "outputId": "f7c72043-fb12-4dd4-da44-b01725d6ff9d",
        "colab": {
          "base_uri": "https://localhost:8080/",
          "height": 375
        }
      },
      "source": [
        "plt.title('Histogram of BlackJack \\n 0: Lose || 1: Win')\n",
        "plt.xlabel('Class')\n",
        "plt.hist(df['blkjck'], color=['green'])"
      ],
      "execution_count": 8,
      "outputs": [
        {
          "output_type": "execute_result",
          "data": {
            "text/plain": [
              "(array([856939.,      0.,      0.,      0.,      0.,      0.,      0.,\n",
              "             0.,      0.,  43061.]),\n",
              " array([0. , 0.1, 0.2, 0.3, 0.4, 0.5, 0.6, 0.7, 0.8, 0.9, 1. ]),\n",
              " <a list of 10 Patch objects>)"
            ]
          },
          "metadata": {
            "tags": []
          },
          "execution_count": 8
        },
        {
          "output_type": "display_data",
          "data": {
            "image/png": "[encoded data removed]",
            "text/plain": [
              "<Figure size 432x288 with 1 Axes>"
            ]
          },
          "metadata": {
            "tags": []
          }
        }
      ]
    }
  ]
}