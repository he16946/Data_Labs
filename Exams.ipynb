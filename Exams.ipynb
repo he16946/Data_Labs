{
  "nbformat": 4,
  "nbformat_minor": 0,
  "metadata": {
    "colab": {
      "name": "Exams.ipynb",
      "provenance": [],
      "authorship_tag": "ABX9TyMMKvxtomSup1XwY3Zt2Wq/",
      "include_colab_link": true
    },
    "kernelspec": {
      "name": "python3",
      "display_name": "Python 3"
    }
  },
  "cells": [
    {
      "cell_type": "markdown",
      "metadata": {
        "id": "view-in-github",
        "colab_type": "text"
      },
      "source": [
        "<a href=\"https://colab.research.google.com/github/he16946/Data_Labs/blob/master/Exams.ipynb\" target=\"_parent\"><img src=\"https://colab.research.google.com/assets/colab-badge.svg\" alt=\"Open In Colab\"/></a>"
      ]
    },
    {
      "cell_type": "markdown",
      "metadata": {
        "id": "6jhyivFepybp",
        "colab_type": "text"
      },
      "source": [
        "# Exam Results Data"
      ]
    },
    {
      "cell_type": "code",
      "metadata": {
        "id": "KP9CF_4CXgZQ",
        "colab_type": "code",
        "colab": {}
      },
      "source": [
        "import os\n",
        "import pandas as pd\n",
        "import matplotlib.pyplot as plt"
      ],
      "execution_count": 0,
      "outputs": []
    },
    {
      "cell_type": "code",
      "metadata": {
        "id": "D9pM2KMgvtMA",
        "colab_type": "code",
        "outputId": "0523f452-9055-44bf-dd58-1c99843cafc8",
        "colab": {
          "base_uri": "https://localhost:8080/",
          "height": 66
        }
      },
      "source": [
        "os.environ['KAGGLE_USERNAME'] = \"ce889group3\" # username from the json file\n",
        "\n",
        "os.environ['KAGGLE_KEY'] = \"2fec783dbd857229b51562347fd33dfe\" # key from the json file\n",
        "\n",
        "! kaggle datasets download -d jayantiprasad/student-exam-results-dataset\n",
        "! unzip -q \"student-exam-results-dataset.zip\""
      ],
      "execution_count": 2,
      "outputs": [
        {
          "output_type": "stream",
          "text": [
            "Downloading student-exam-results-dataset.zip to /content\n",
            "\r  0% 0.00/11.7k [00:00<?, ?B/s]\n",
            "\r100% 11.7k/11.7k [00:00<00:00, 4.68MB/s]\n"
          ],
          "name": "stdout"
        }
      ]
    },
    {
      "cell_type": "code",
      "metadata": {
        "id": "tZewHDXwXpfa",
        "colab_type": "code",
        "colab": {}
      },
      "source": [
        "df = pd.read_csv(\"results.csv\")"
      ],
      "execution_count": 0,
      "outputs": []
    },
    {
      "cell_type": "markdown",
      "metadata": {
        "id": "9cufUlfKqShq",
        "colab_type": "text"
      },
      "source": [
        "## Check data for NaNs"
      ]
    },
    {
      "cell_type": "code",
      "metadata": {
        "id": "79piNtpGoVxp",
        "colab_type": "code",
        "outputId": "0d528474-152a-42f4-9199-dd1bfc0f5710",
        "colab": {
          "base_uri": "https://localhost:8080/",
          "height": 66
        }
      },
      "source": [
        "df.columns"
      ],
      "execution_count": 4,
      "outputs": [
        {
          "output_type": "execute_result",
          "data": {
            "text/plain": [
              "Index(['Unnamed: 0', 'Hindi', 'English', 'Science', 'Maths', 'History',\n",
              "       'Geograpgy', 'Total', 'Results', 'Div'],\n",
              "      dtype='object')"
            ]
          },
          "metadata": {
            "tags": []
          },
          "execution_count": 4
        }
      ]
    },
    {
      "cell_type": "code",
      "metadata": {
        "id": "IPaKX99PqOco",
        "colab_type": "code",
        "colab": {
          "base_uri": "https://localhost:8080/",
          "height": 196
        },
        "outputId": "362e2d03-5616-4e6c-a174-4907aee00350"
      },
      "source": [
        "df.isna().sum() "
      ],
      "execution_count": 7,
      "outputs": [
        {
          "output_type": "execute_result",
          "data": {
            "text/plain": [
              "Unnamed: 0    0\n",
              "Hindi         0\n",
              "English       0\n",
              "Science       0\n",
              "Maths         0\n",
              "History       0\n",
              "Geograpgy     0\n",
              "Total         0\n",
              "Results       0\n",
              "Div           0\n",
              "dtype: int64"
            ]
          },
          "metadata": {
            "tags": []
          },
          "execution_count": 7
        }
      ]
    },
    {
      "cell_type": "markdown",
      "metadata": {
        "id": "ZfWJGVtyqXjV",
        "colab_type": "text"
      },
      "source": [
        "## Find imbalance of dataset"
      ]
    },
    {
      "cell_type": "code",
      "metadata": {
        "id": "htSA6R_YobBv",
        "colab_type": "code",
        "outputId": "0eabaf45-e4a0-4bc9-c3b3-41f109e3fc45",
        "colab": {
          "base_uri": "https://localhost:8080/",
          "height": 50
        }
      },
      "source": [
        "print('Passed', round(df['Results'].value_counts()[1]/len(df) * 100,2), '% of the dataset')\n",
        "print('Failed', round(df['Results'].value_counts()[0]/len(df) * 100,2), '% of the dataset')"
      ],
      "execution_count": 5,
      "outputs": [
        {
          "output_type": "stream",
          "text": [
            "Passed 35.0 % of the dataset\n",
            "Failed 65.0 % of the dataset\n"
          ],
          "name": "stdout"
        }
      ]
    },
    {
      "cell_type": "code",
      "metadata": {
        "id": "nVzxerVRv9xI",
        "colab_type": "code",
        "outputId": "6c386e97-ab85-4c15-9609-470d16d12197",
        "colab": {
          "base_uri": "https://localhost:8080/",
          "height": 358
        }
      },
      "source": [
        "plt.title('Histogram of Results \\n 0: Pass || 1: Fail')\n",
        "plt.xlabel('Class')\n",
        "plt.hist(df['Results'], color='blue')"
      ],
      "execution_count": 6,
      "outputs": [
        {
          "output_type": "execute_result",
          "data": {
            "text/plain": [
              "(array([650.,   0.,   0.,   0.,   0.,   0.,   0.,   0.,   0., 350.]),\n",
              " array([0. , 0.1, 0.2, 0.3, 0.4, 0.5, 0.6, 0.7, 0.8, 0.9, 1. ]),\n",
              " <a list of 10 Patch objects>)"
            ]
          },
          "metadata": {
            "tags": []
          },
          "execution_count": 6
        },
        {
          "output_type": "display_data",
          "data": {
            "image/png": "[encoded data removed]",
            "text/plain": [
              "<Figure size 432x288 with 1 Axes>"
            ]
          },
          "metadata": {
            "tags": []
          }
        }
      ]
    }
  ]
}