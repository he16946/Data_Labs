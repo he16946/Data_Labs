{
  "nbformat": 4,
  "nbformat_minor": 0,
  "metadata": {
    "colab": {
      "name": "Exams.ipynb",
      "provenance": [],
      "authorship_tag": "ABX9TyO/kzWC8yQA8ZX5GHQMCadu",
      "include_colab_link": true
    },
    "kernelspec": {
      "name": "python3",
      "display_name": "Python 3"
    }
  },
  "cells": [
    {
      "cell_type": "markdown",
      "metadata": {
        "id": "view-in-github",
        "colab_type": "text"
      },
      "source": [
        "<a href=\"https://colab.research.google.com/github/he16946/Data_Labs/blob/master/Exams.ipynb\" target=\"_parent\"><img src=\"https://colab.research.google.com/assets/colab-badge.svg\" alt=\"Open In Colab\"/></a>"
      ]
    },
    {
      "cell_type": "code",
      "metadata": {
        "id": "KP9CF_4CXgZQ",
        "colab_type": "code",
        "colab": {
          "base_uri": "https://localhost:8080/",
          "height": 70
        },
        "outputId": "5b05ee51-e233-44e8-8ec3-afa5c41dad45"
      },
      "source": [
        "import os\n",
        "import pandas as pd\n",
        "\n",
        "os.environ['KAGGLE_USERNAME'] = \"ce889group3\" # username from the json file\n",
        "\n",
        "os.environ['KAGGLE_KEY'] = \"2fec783dbd857229b51562347fd33dfe\" # key from the json file\n",
        "\n",
        "! kaggle datasets download -d jayantiprasad/student-exam-results-dataset\n",
        "! unzip -q \"student-exam-results-dataset.zip\""
      ],
      "execution_count": 1,
      "outputs": [
        {
          "output_type": "stream",
          "text": [
            "Downloading student-exam-results-dataset.zip to /content\n",
            "\r  0% 0.00/11.7k [00:00<?, ?B/s]\n",
            "\r100% 11.7k/11.7k [00:00<00:00, 9.83MB/s]\n"
          ],
          "name": "stdout"
        }
      ]
    },
    {
      "cell_type": "code",
      "metadata": {
        "id": "tZewHDXwXpfa",
        "colab_type": "code",
        "colab": {}
      },
      "source": [
        "df = pd.read_csv(\"results.csv\")"
      ],
      "execution_count": 0,
      "outputs": []
    },
    {
      "cell_type": "code",
      "metadata": {
        "id": "79piNtpGoVxp",
        "colab_type": "code",
        "colab": {
          "base_uri": "https://localhost:8080/",
          "height": 70
        },
        "outputId": "470b3376-4ba9-4ea5-9f00-913b442315ca"
      },
      "source": [
        "df.columns"
      ],
      "execution_count": 4,
      "outputs": [
        {
          "output_type": "execute_result",
          "data": {
            "text/plain": [
              "Index(['Unnamed: 0', 'Hindi', 'English', 'Science', 'Maths', 'History',\n",
              "       'Geograpgy', 'Total', 'Results', 'Div'],\n",
              "      dtype='object')"
            ]
          },
          "metadata": {
            "tags": []
          },
          "execution_count": 4
        }
      ]
    },
    {
      "cell_type": "code",
      "metadata": {
        "id": "htSA6R_YobBv",
        "colab_type": "code",
        "colab": {
          "base_uri": "https://localhost:8080/",
          "height": 52
        },
        "outputId": "fdc4bddb-5bb5-4945-cb9c-2ce7c604c5cc"
      },
      "source": [
        "print('Passed', round(df['Results'].value_counts()[1]/len(df) * 100,2), '% of the dataset')\n",
        "print('Failed', round(df['Results'].value_counts()[0]/len(df) * 100,2), '% of the dataset')"
      ],
      "execution_count": 5,
      "outputs": [
        {
          "output_type": "stream",
          "text": [
            "Passed 35.0 % of the dataset\n",
            "Failed 65.0 % of the dataset\n"
          ],
          "name": "stdout"
        }
      ]
    },
    {
      "cell_type": "code",
      "metadata": {
        "id": "2yGhrwxZo3uw",
        "colab_type": "code",
        "colab": {}
      },
      "source": [
        ""
      ],
      "execution_count": 0,
      "outputs": []
    }
  ]
}