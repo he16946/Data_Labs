{
  "nbformat": 4,
  "nbformat_minor": 0,
  "metadata": {
    "colab": {
      "name": "Fraud.ipynb",
      "provenance": [],
      "authorship_tag": "ABX9TyMli9yPZ6cEDEYAtM/i1B0J",
      "include_colab_link": true
    },
    "kernelspec": {
      "name": "python3",
      "display_name": "Python 3"
    }
  },
  "cells": [
    {
      "cell_type": "markdown",
      "metadata": {
        "id": "view-in-github",
        "colab_type": "text"
      },
      "source": [
        "<a href=\"https://colab.research.google.com/github/he16946/Data_Labs/blob/master/Fraud.ipynb\" target=\"_parent\"><img src=\"https://colab.research.google.com/assets/colab-badge.svg\" alt=\"Open In Colab\"/></a>"
      ]
    },
    {
      "cell_type": "markdown",
      "metadata": {
        "id": "z5UsxmmqqzEG",
        "colab_type": "text"
      },
      "source": [
        "## Fraud Data"
      ]
    },
    {
      "cell_type": "code",
      "metadata": {
        "id": "NMdpZY4GduiA",
        "colab_type": "code",
        "colab": {}
      },
      "source": [
        "import os\n",
        "import pandas as pd\n",
        "import numpy as np\n",
        "import matplotlib.pyplot as plt\n",
        "from sklearn import tree\n",
        "from sklearn.model_selection import cross_validate\n",
        "from sklearn.tree import DecisionTreeClassifier\n",
        "from sklearn.ensemble import RandomForestClassifier\n",
        "from sklearn.dummy import DummyClassifier\n",
        "from sklearn.model_selection import train_test_split"
      ],
      "execution_count": 0,
      "outputs": []
    },
    {
      "cell_type": "markdown",
      "metadata": {
        "id": "SDa3IPSZsbmL",
        "colab_type": "text"
      },
      "source": [
        "## Downloading data"
      ]
    },
    {
      "cell_type": "code",
      "metadata": {
        "id": "EtzodAsrd3aC",
        "colab_type": "code",
        "colab": {
          "base_uri": "https://localhost:8080/",
          "height": 55
        },
        "outputId": "e6a14b65-9133-4253-bc1b-a2903b99bad8"
      },
      "source": [
        "os.environ['KAGGLE_USERNAME'] = \"ce889group3\" # username from the json file\n",
        "\n",
        "os.environ['KAGGLE_KEY'] = \"f0ec34f29bf37cceb765b25f5a1bce2c\" # key from the json file\n",
        "\n",
        "! kaggle datasets download -d mlg-ulb/creditcardfraud"
      ],
      "execution_count": 5,
      "outputs": [
        {
          "output_type": "stream",
          "text": [
            "creditcardfraud.zip: Skipping, found more recently modified local copy (use --force to force download)\n"
          ],
          "name": "stdout"
        }
      ]
    },
    {
      "cell_type": "code",
      "metadata": {
        "id": "twBTzH4ReCiN",
        "colab_type": "code",
        "colab": {}
      },
      "source": [
        "! unzip -q \"creditcardfraud.zip\""
      ],
      "execution_count": 0,
      "outputs": []
    },
    {
      "cell_type": "code",
      "metadata": {
        "id": "X0pwb2MFeRx6",
        "colab_type": "code",
        "colab": {}
      },
      "source": [
        "df = pd.read_csv(\"creditcard.csv\")"
      ],
      "execution_count": 0,
      "outputs": []
    },
    {
      "cell_type": "code",
      "metadata": {
        "id": "_am1RVzyekpI",
        "colab_type": "code",
        "colab": {
          "base_uri": "https://localhost:8080/",
          "height": 52
        },
        "outputId": "dddd27b3-efa5-4c24-c0ca-e0db0ec99b28"
      },
      "source": [
        "print('Fraud', round(df['Class'].value_counts()[1]/len(df) * 100,2), '% of the dataset')\n",
        "print('Not Fraud', round(df['Class'].value_counts()[0]/len(df) * 100,2), '% of the dataset')"
      ],
      "execution_count": 8,
      "outputs": [
        {
          "output_type": "stream",
          "text": [
            "Fraud 0.17 % of the dataset\n",
            "Not Fraud 99.83 % of the dataset\n"
          ],
          "name": "stdout"
        }
      ]
    },
    {
      "cell_type": "markdown",
      "metadata": {
        "id": "KggcuDEDs6bi",
        "colab_type": "text"
      },
      "source": [
        "## Preprocessing"
      ]
    },
    {
      "cell_type": "markdown",
      "metadata": {
        "id": "en5a-VBftFxi",
        "colab_type": "text"
      },
      "source": [
        "No columns need to be removed"
      ]
    },
    {
      "cell_type": "code",
      "metadata": {
        "id": "yZzs2AoztNKj",
        "colab_type": "code",
        "colab": {}
      },
      "source": [
        "norm = ((df - df.min())/(df.max()-df.min()))"
      ],
      "execution_count": 0,
      "outputs": []
    },
    {
      "cell_type": "markdown",
      "metadata": {
        "id": "bzn1n5P-tpwO",
        "colab_type": "text"
      },
      "source": [
        "## Cross-validation "
      ]
    },
    {
      "cell_type": "code",
      "metadata": {
        "id": "AHsq2YkItthZ",
        "colab_type": "code",
        "colab": {
          "base_uri": "https://localhost:8080/",
          "height": 106
        },
        "outputId": "155b86ab-e642-4fd7-eed8-5108e5cd2877"
      },
      "source": [
        "norm.columns"
      ],
      "execution_count": 10,
      "outputs": [
        {
          "output_type": "execute_result",
          "data": {
            "text/plain": [
              "Index(['Time', 'V1', 'V2', 'V3', 'V4', 'V5', 'V6', 'V7', 'V8', 'V9', 'V10',\n",
              "       'V11', 'V12', 'V13', 'V14', 'V15', 'V16', 'V17', 'V18', 'V19', 'V20',\n",
              "       'V21', 'V22', 'V23', 'V24', 'V25', 'V26', 'V27', 'V28', 'Amount',\n",
              "       'Class'],\n",
              "      dtype='object')"
            ]
          },
          "metadata": {
            "tags": []
          },
          "execution_count": 10
        }
      ]
    },
    {
      "cell_type": "code",
      "metadata": {
        "id": "soogZZogtwOE",
        "colab_type": "code",
        "colab": {
          "base_uri": "https://localhost:8080/",
          "height": 55
        },
        "outputId": "afb030eb-a188-4755-8263-e9f192965756"
      },
      "source": [
        "features = list(norm.columns[0:30])\n",
        "print(features)"
      ],
      "execution_count": 11,
      "outputs": [
        {
          "output_type": "stream",
          "text": [
            "['Time', 'V1', 'V2', 'V3', 'V4', 'V5', 'V6', 'V7', 'V8', 'V9', 'V10', 'V11', 'V12', 'V13', 'V14', 'V15', 'V16', 'V17', 'V18', 'V19', 'V20', 'V21', 'V22', 'V23', 'V24', 'V25', 'V26', 'V27', 'V28', 'Amount']\n"
          ],
          "name": "stdout"
        }
      ]
    },
    {
      "cell_type": "code",
      "metadata": {
        "id": "gnBz4RSTt-Sz",
        "colab_type": "code",
        "colab": {}
      },
      "source": [
        "x = norm[features]\n",
        "y = norm['Class']"
      ],
      "execution_count": 0,
      "outputs": []
    },
    {
      "cell_type": "code",
      "metadata": {
        "id": "MP1dgrJJFPZ_",
        "colab_type": "code",
        "colab": {}
      },
      "source": [
        "x_train, x_test, y_train, y_test = train_test_split(x, y, random_state=0)"
      ],
      "execution_count": 0,
      "outputs": []
    },
    {
      "cell_type": "code",
      "metadata": {
        "id": "xjA-Gri9FSHX",
        "colab_type": "code",
        "colab": {
          "base_uri": "https://localhost:8080/",
          "height": 35
        },
        "outputId": "27df355c-92fe-4ec9-be57-79b1545bc950"
      },
      "source": [
        "dummy = DummyClassifier(strategy='uniform', random_state=1)\n",
        "dummy.fit(x_train, y_train)\n",
        "dummy.score(x_test, y_test)  "
      ],
      "execution_count": 21,
      "outputs": [
        {
          "output_type": "execute_result",
          "data": {
            "text/plain": [
              "0.5002247127889666"
            ]
          },
          "metadata": {
            "tags": []
          },
          "execution_count": 21
        }
      ]
    },
    {
      "cell_type": "code",
      "metadata": {
        "id": "dvRzsqD9uE5j",
        "colab_type": "code",
        "colab": {
          "base_uri": "https://localhost:8080/",
          "height": 70
        },
        "outputId": "da93f76d-fa5a-43dd-e0f3-ede6d7bd9b46"
      },
      "source": [
        "dt = DecisionTreeClassifier(min_samples_split = 30, max_depth = 4, random_state = 32)\n",
        "dt.fit(x_train, y_train)\n",
        "print(\"DT score: \", dt.score(x_test, y_test))\n",
        "print(\"Train score: \", cross_validate(dt, x_train, y_train)['test_score'].mean())\n",
        "print(\"Test score: \", cross_validate(dt, x_test, y_test)['test_score'].mean())"
      ],
      "execution_count": 22,
      "outputs": [
        {
          "output_type": "stream",
          "text": [
            "DT score:  0.9994241734782731\n",
            "Train score:  0.9993118138620349\n",
            "Test score:  0.9992415947308334\n"
          ],
          "name": "stdout"
        }
      ]
    },
    {
      "cell_type": "code",
      "metadata": {
        "id": "CSITaolUuMo0",
        "colab_type": "code",
        "colab": {
          "base_uri": "https://localhost:8080/",
          "height": 70
        },
        "outputId": "206abf2c-f412-4c19-ea4a-a06426002adf"
      },
      "source": [
        "rf = RandomForestClassifier(n_estimators = 100, max_depth = 4, random_state = 32)\n",
        "rf.fit(x_train, y_train)\n",
        "print(\"DT score: \", rf.score(x_test, y_test))\n",
        "print(\"Train score: \", cross_validate(rf, x_train, y_train)['test_score'].mean())\n",
        "print(\"Test score: \", cross_validate(rf, x_test, y_test)['test_score'].mean())"
      ],
      "execution_count": 23,
      "outputs": [
        {
          "output_type": "stream",
          "text": [
            "DT score:  0.9993820398303418\n",
            "Train score:  0.9993445846305097\n",
            "Test score:  0.9993118174774687\n"
          ],
          "name": "stdout"
        }
      ]
    },
    {
      "cell_type": "code",
      "metadata": {
        "id": "Ai7I0sHT9fSm",
        "colab_type": "code",
        "colab": {
          "base_uri": "https://localhost:8080/",
          "height": 954
        },
        "outputId": "fac2b2d4-0095-439a-d5ed-8a4b55f804a2"
      },
      "source": [
        "dt.fit(x, y)\n",
        "importances = dt.feature_importances_\n",
        "indices = np.argsort(importances)[::-1]\n",
        "\n",
        "print(\"Feature ranking:\")\n",
        "for f in range(x.shape[1]):\n",
        "  print(\"%d. %s (%f)\" % (f + 1, features[indices[f]], importances[indices[f]]))\n",
        "\n",
        "fig = plt.figure()\n",
        "plt.title(\"Feature importance\")\n",
        "plt.bar(range(x.shape[1]), importances[indices], color=\"b\", align=\"center\")\n",
        "plt.xticks(range(x.shape[1]), np.array(features)[indices])\n",
        "plt.xlim([-1, x.shape[1]])\n",
        "fig.set_size_inches(15, 8)\n",
        "axes = plt.gca()\n",
        "axes.set_ylim([0, None])"
      ],
      "execution_count": 25,
      "outputs": [
        {
          "output_type": "stream",
          "text": [
            "Feature ranking:\n",
            "1. V17 (0.728145)\n",
            "2. V14 (0.121322)\n",
            "3. V10 (0.062537)\n",
            "4. V12 (0.053587)\n",
            "5. V26 (0.019315)\n",
            "6. V8 (0.009773)\n",
            "7. V21 (0.005321)\n",
            "8. V1 (0.000000)\n",
            "9. V2 (0.000000)\n",
            "10. V3 (0.000000)\n",
            "11. V4 (0.000000)\n",
            "12. V5 (0.000000)\n",
            "13. V6 (0.000000)\n",
            "14. V7 (0.000000)\n",
            "15. V9 (0.000000)\n",
            "16. V11 (0.000000)\n",
            "17. Amount (0.000000)\n",
            "18. V13 (0.000000)\n",
            "19. V28 (0.000000)\n",
            "20. V15 (0.000000)\n",
            "21. V16 (0.000000)\n",
            "22. V18 (0.000000)\n",
            "23. V19 (0.000000)\n",
            "24. V20 (0.000000)\n",
            "25. V22 (0.000000)\n",
            "26. V23 (0.000000)\n",
            "27. V24 (0.000000)\n",
            "28. V25 (0.000000)\n",
            "29. V27 (0.000000)\n",
            "30. Time (0.000000)\n"
          ],
          "name": "stdout"
        },
        {
          "output_type": "execute_result",
          "data": {
            "text/plain": [
              "(0.0, 0.7645523165828936)"
            ]
          },
          "metadata": {
            "tags": []
          },
          "execution_count": 25
        },
        {
          "output_type": "display_data",
          "data": {
            "image/png": "[encoded data removed]",
            "text/plain": [
              "<Figure size 1080x576 with 1 Axes>"
            ]
          },
          "metadata": {
            "tags": [],
            "needs_background": "light"
          }
        }
      ]
    },
    {
      "cell_type": "code",
      "metadata": {
        "id": "ZEHcapm595xA",
        "colab_type": "code",
        "colab": {
          "base_uri": "https://localhost:8080/",
          "height": 954
        },
        "outputId": "d3ec7b92-7676-45c4-a253-d3c69664c455"
      },
      "source": [
        "rf.fit(x, y)\n",
        "importances = rf.feature_importances_\n",
        "std = np.std([tree.feature_importances_ for tree in rf.estimators_], axis=0)\n",
        "indices = np.argsort(importances)[::-1]\n",
        "\n",
        "print(\"Feature ranking:\")\n",
        "for f in range(x.shape[1]):\n",
        "  print(\"%d. %s (%f)\" % (f + 1, features[indices[f]], importances[indices[f]]))\n",
        "\n",
        "fig = plt.figure()\n",
        "plt.title(\"Feature importance\")\n",
        "plt.bar(range(x.shape[1]), importances[indices], color=\"b\", yerr=std[indices], align=\"center\")\n",
        "plt.xticks(range(x.shape[1]), np.array(features)[indices])\n",
        "plt.xlim([-1, x.shape[1]])\n",
        "fig.set_size_inches(15, 8)\n",
        "axes = plt.gca()\n",
        "axes.set_ylim([0, None])"
      ],
      "execution_count": 24,
      "outputs": [
        {
          "output_type": "stream",
          "text": [
            "Feature ranking:\n",
            "1. V17 (0.226127)\n",
            "2. V12 (0.165042)\n",
            "3. V10 (0.122450)\n",
            "4. V14 (0.116532)\n",
            "5. V16 (0.080437)\n",
            "6. V11 (0.077792)\n",
            "7. V18 (0.030342)\n",
            "8. V9 (0.028699)\n",
            "9. V7 (0.028462)\n",
            "10. V4 (0.026261)\n",
            "11. V3 (0.011895)\n",
            "12. V21 (0.011552)\n",
            "13. V26 (0.009491)\n",
            "14. V2 (0.008386)\n",
            "15. V27 (0.008285)\n",
            "16. V6 (0.008110)\n",
            "17. V8 (0.005718)\n",
            "18. V5 (0.005317)\n",
            "19. V20 (0.004531)\n",
            "20. V1 (0.004129)\n",
            "21. V19 (0.003324)\n",
            "22. V24 (0.003195)\n",
            "23. V15 (0.003130)\n",
            "24. V28 (0.002149)\n",
            "25. V22 (0.001933)\n",
            "26. Amount (0.001890)\n",
            "27. Time (0.001780)\n",
            "28. V23 (0.001203)\n",
            "29. V25 (0.000957)\n",
            "30. V13 (0.000883)\n"
          ],
          "name": "stdout"
        },
        {
          "output_type": "execute_result",
          "data": {
            "text/plain": [
              "(0.0, 0.5645685419451831)"
            ]
          },
          "metadata": {
            "tags": []
          },
          "execution_count": 24
        },
        {
          "output_type": "display_data",
          "data": {
            "image/png": "[encoded data removed]",
            "text/plain": [
              "<Figure size 1080x576 with 1 Axes>"
            ]
          },
          "metadata": {
            "tags": [],
            "needs_background": "light"
          }
        }
      ]
    }
  ]
}