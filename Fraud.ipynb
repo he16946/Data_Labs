{
  "nbformat": 4,
  "nbformat_minor": 0,
  "metadata": {
    "colab": {
      "name": "Fraud.ipynb",
      "provenance": [],
      "authorship_tag": "ABX9TyNwcVZpDU1D5WgKs1EzgLI9",
      "include_colab_link": true
    },
    "kernelspec": {
      "name": "python3",
      "display_name": "Python 3"
    }
  },
  "cells": [
    {
      "cell_type": "markdown",
      "metadata": {
        "id": "view-in-github",
        "colab_type": "text"
      },
      "source": [
        "<a href=\"https://colab.research.google.com/github/he16946/Data_Labs/blob/master/Fraud.ipynb\" target=\"_parent\"><img src=\"https://colab.research.google.com/assets/colab-badge.svg\" alt=\"Open In Colab\"/></a>"
      ]
    },
    {
      "cell_type": "markdown",
      "metadata": {
        "id": "z5UsxmmqqzEG",
        "colab_type": "text"
      },
      "source": [
        "## Fraud Data"
      ]
    },
    {
      "cell_type": "code",
      "metadata": {
        "id": "NMdpZY4GduiA",
        "colab_type": "code",
        "colab": {}
      },
      "source": [
        "import os\n",
        "import pandas as pd\n",
        "import numpy as np\n",
        "import matplotlib.pyplot as plt\n",
        "from sklearn.model_selection import (cross_validate, cross_val_score, KFold,\n",
        "                                      train_test_split, StratifiedKFold)\n",
        "from sklearn.tree import DecisionTreeClassifier,  DecisionTreeRegressor\n",
        "from sklearn.pipeline import make_pipeline\n",
        "from sklearn.linear_model import LogisticRegression\n",
        "from sklearn.preprocessing import StandardScaler\n",
        "from sklearn.ensemble import RandomForestClassifier\n",
        "from sklearn.dummy import DummyClassifier"
      ],
      "execution_count": 0,
      "outputs": []
    },
    {
      "cell_type": "markdown",
      "metadata": {
        "id": "SDa3IPSZsbmL",
        "colab_type": "text"
      },
      "source": [
        "## Downloading data"
      ]
    },
    {
      "cell_type": "code",
      "metadata": {
        "id": "EtzodAsrd3aC",
        "colab_type": "code",
        "colab": {
          "base_uri": "https://localhost:8080/",
          "height": 70
        },
        "outputId": "cca535f6-36ac-415b-fe09-2240db573b73"
      },
      "source": [
        "os.environ['KAGGLE_USERNAME'] = \"ce889group3\" # username from the json file\n",
        "\n",
        "os.environ['KAGGLE_KEY'] = \"f0ec34f29bf37cceb765b25f5a1bce2c\" # key from the json file\n",
        "\n",
        "! kaggle datasets download -d mlg-ulb/creditcardfraud"
      ],
      "execution_count": 2,
      "outputs": [
        {
          "output_type": "stream",
          "text": [
            "Downloading creditcardfraud.zip to /content\n",
            " 86% 57.0M/66.0M [00:01<00:00, 30.1MB/s]\n",
            "100% 66.0M/66.0M [00:01<00:00, 47.1MB/s]\n"
          ],
          "name": "stdout"
        }
      ]
    },
    {
      "cell_type": "code",
      "metadata": {
        "id": "twBTzH4ReCiN",
        "colab_type": "code",
        "colab": {}
      },
      "source": [
        "! unzip -q \"creditcardfraud.zip\""
      ],
      "execution_count": 0,
      "outputs": []
    },
    {
      "cell_type": "code",
      "metadata": {
        "id": "X0pwb2MFeRx6",
        "colab_type": "code",
        "colab": {}
      },
      "source": [
        "df = pd.read_csv(\"creditcard.csv\")"
      ],
      "execution_count": 0,
      "outputs": []
    },
    {
      "cell_type": "code",
      "metadata": {
        "id": "_am1RVzyekpI",
        "colab_type": "code",
        "colab": {
          "base_uri": "https://localhost:8080/",
          "height": 52
        },
        "outputId": "f8594677-5132-4ed8-85fe-e4833563c4f0"
      },
      "source": [
        "print('Fraud', round(df['Class'].value_counts()[1]/len(df) * 100,2), '% of the dataset')\n",
        "print('Not Fraud', round(df['Class'].value_counts()[0]/len(df) * 100,2), '% of the dataset')"
      ],
      "execution_count": 5,
      "outputs": [
        {
          "output_type": "stream",
          "text": [
            "Fraud 0.17 % of the dataset\n",
            "Not Fraud 99.83 % of the dataset\n"
          ],
          "name": "stdout"
        }
      ]
    },
    {
      "cell_type": "markdown",
      "metadata": {
        "id": "KggcuDEDs6bi",
        "colab_type": "text"
      },
      "source": [
        "## Preprocessing"
      ]
    },
    {
      "cell_type": "markdown",
      "metadata": {
        "id": "en5a-VBftFxi",
        "colab_type": "text"
      },
      "source": [
        "No columns need to be removed"
      ]
    },
    {
      "cell_type": "code",
      "metadata": {
        "id": "yZzs2AoztNKj",
        "colab_type": "code",
        "colab": {}
      },
      "source": [
        "norm = ((df - df.min())/(df.max()-df.min()))"
      ],
      "execution_count": 0,
      "outputs": []
    },
    {
      "cell_type": "markdown",
      "metadata": {
        "id": "bzn1n5P-tpwO",
        "colab_type": "text"
      },
      "source": [
        "## Cross-validation "
      ]
    },
    {
      "cell_type": "code",
      "metadata": {
        "id": "AHsq2YkItthZ",
        "colab_type": "code",
        "colab": {
          "base_uri": "https://localhost:8080/",
          "height": 106
        },
        "outputId": "8cfe83ab-5ede-4a6f-fa35-0e1639caa3d9"
      },
      "source": [
        "norm.columns"
      ],
      "execution_count": 7,
      "outputs": [
        {
          "output_type": "execute_result",
          "data": {
            "text/plain": [
              "Index(['Time', 'V1', 'V2', 'V3', 'V4', 'V5', 'V6', 'V7', 'V8', 'V9', 'V10',\n",
              "       'V11', 'V12', 'V13', 'V14', 'V15', 'V16', 'V17', 'V18', 'V19', 'V20',\n",
              "       'V21', 'V22', 'V23', 'V24', 'V25', 'V26', 'V27', 'V28', 'Amount',\n",
              "       'Class'],\n",
              "      dtype='object')"
            ]
          },
          "metadata": {
            "tags": []
          },
          "execution_count": 7
        }
      ]
    },
    {
      "cell_type": "code",
      "metadata": {
        "id": "soogZZogtwOE",
        "colab_type": "code",
        "colab": {
          "base_uri": "https://localhost:8080/",
          "height": 55
        },
        "outputId": "67b80c1f-a56b-47b7-f02b-fc6307730e17"
      },
      "source": [
        "features = list(norm.columns[0:30])\n",
        "print(features)"
      ],
      "execution_count": 8,
      "outputs": [
        {
          "output_type": "stream",
          "text": [
            "['Time', 'V1', 'V2', 'V3', 'V4', 'V5', 'V6', 'V7', 'V8', 'V9', 'V10', 'V11', 'V12', 'V13', 'V14', 'V15', 'V16', 'V17', 'V18', 'V19', 'V20', 'V21', 'V22', 'V23', 'V24', 'V25', 'V26', 'V27', 'V28', 'Amount']\n"
          ],
          "name": "stdout"
        }
      ]
    },
    {
      "cell_type": "code",
      "metadata": {
        "id": "gnBz4RSTt-Sz",
        "colab_type": "code",
        "colab": {}
      },
      "source": [
        "x = norm[features]\n",
        "y = norm['Class']"
      ],
      "execution_count": 0,
      "outputs": []
    },
    {
      "cell_type": "code",
      "metadata": {
        "id": "8eEhP6mscNHj",
        "colab_type": "code",
        "colab": {
          "base_uri": "https://localhost:8080/",
          "height": 279
        },
        "outputId": "18ab25e5-1fe5-4403-8073-c9199757c51d"
      },
      "source": [
        "cmap_data = plt.cm.Paired\n",
        "def visualize_classes(classes):\n",
        "    fig, ax = plt.subplots()\n",
        "    ax.scatter(range(len(classes)),  [3.5] * len(classes), c=classes, marker='_',\n",
        "               lw=50, cmap=cmap_data)\n",
        "    ax.set(yticks=[3.5],\n",
        "           yticklabels=['Data\\nclass'], xlabel=\"Data\")\n",
        "\n",
        "\n",
        "visualize_classes(y)"
      ],
      "execution_count": 12,
      "outputs": [
        {
          "output_type": "display_data",
          "data": {
            "image/png": "[encoded data removed]",
            "text/plain": [
              "<Figure size 432x288 with 1 Axes>"
            ]
          },
          "metadata": {
            "tags": [],
            "needs_background": "light"
          }
        }
      ]
    },
    {
      "cell_type": "code",
      "metadata": {
        "id": "MP1dgrJJFPZ_",
        "colab_type": "code",
        "colab": {}
      },
      "source": [
        "x_train, x_test, y_train, y_test = train_test_split(x, y, random_state=0)"
      ],
      "execution_count": 0,
      "outputs": []
    },
    {
      "cell_type": "markdown",
      "metadata": {
        "id": "UMBQOAQ3eLEL",
        "colab_type": "text"
      },
      "source": [
        "**KFold Cross validation**"
      ]
    },
    {
      "cell_type": "code",
      "metadata": {
        "id": "cYe5Vrw-j2Bm",
        "colab_type": "code",
        "colab": {}
      },
      "source": [
        "stnd = StandardScaler()\n",
        "logit = LogisticRegression()\n",
        "pipeline = make_pipeline(stnd, logit)\n",
        "kf = KFold(n_splits = 10)"
      ],
      "execution_count": 0,
      "outputs": []
    },
    {
      "cell_type": "code",
      "metadata": {
        "id": "okA-tr4uj5k9",
        "colab_type": "code",
        "colab": {
          "base_uri": "https://localhost:8080/",
          "height": 315
        },
        "outputId": "9211442d-9374-46cc-dd3b-a2903beb7992"
      },
      "source": [
        "cmap_cv = plt.cm.coolwarm\n",
        "\n",
        "def plot_cv_indices(cv, X, y, ax, n_splits, lw=10):\n",
        "    \"\"\"Create a sample plot for indices of a cross-validation object.\"\"\"\n",
        "\n",
        "    # Generate the training/testing visualizations for each CV split\n",
        "    for ii, (tr, tt) in enumerate(cv.split(X=X, y=y)):\n",
        "        # Fill in indices with the training/test groups\n",
        "        indices = np.array([np.nan] * len(X))\n",
        "        indices[tt] = 1\n",
        "        indices[tr] = 0\n",
        "\n",
        "        ax.scatter(range(len(indices)), [ii + .5] * len(indices),\n",
        "                   c=indices, marker='_', lw=lw, cmap=cmap_cv,\n",
        "                   vmin=-.2, vmax=1.2)\n",
        "\n",
        "    ax.set(yticks=np.arange(n_splits+2),\n",
        "           xlabel='Data points', ylabel=\"CV iteration\",\n",
        "           ylim=[n_splits, -.2])\n",
        "    ax.set_title('{}'.format(type(cv).__name__), fontsize=15)\n",
        "    return ax\n",
        "\n",
        "fig, ax = plt.subplots()\n",
        "plot_cv_indices(kf, x, y, ax, 10)"
      ],
      "execution_count": 18,
      "outputs": [
        {
          "output_type": "execute_result",
          "data": {
            "text/plain": [
              "<matplotlib.axes._subplots.AxesSubplot at 0x7fe45f1583c8>"
            ]
          },
          "metadata": {
            "tags": []
          },
          "execution_count": 18
        },
        {
          "output_type": "display_data",
          "data": {
            "image/png": "[encoded data removed]",
            "text/plain": [
              "<Figure size 432x288 with 1 Axes>"
            ]
          },
          "metadata": {
            "tags": [],
            "needs_background": "light"
          }
        }
      ]
    },
    {
      "cell_type": "code",
      "metadata": {
        "id": "TrzCbKgVj809",
        "colab_type": "code",
        "colab": {
          "base_uri": "https://localhost:8080/",
          "height": 35
        },
        "outputId": "3c79fe99-7b25-4fcd-df38-c8dc9dc77127"
      },
      "source": [
        "cv_results = cross_val_score(pipeline, x, y, cv=kf,scoring=\"accuracy\", n_jobs=-1)\n",
        "cv_results.mean()"
      ],
      "execution_count": 19,
      "outputs": [
        {
          "output_type": "execute_result",
          "data": {
            "text/plain": [
              "0.9991467924703595"
            ]
          },
          "metadata": {
            "tags": []
          },
          "execution_count": 19
        }
      ]
    },
    {
      "cell_type": "markdown",
      "metadata": {
        "id": "Cb90LPuuePDn",
        "colab_type": "text"
      },
      "source": [
        "## Classifiers"
      ]
    },
    {
      "cell_type": "markdown",
      "metadata": {
        "id": "FEvmYxEVeQ7s",
        "colab_type": "text"
      },
      "source": [
        "**Dummy Classifier**"
      ]
    },
    {
      "cell_type": "code",
      "metadata": {
        "id": "xjA-Gri9FSHX",
        "colab_type": "code",
        "colab": {
          "base_uri": "https://localhost:8080/",
          "height": 35
        },
        "outputId": "5001855f-77ea-4172-e950-bbe1472a9935"
      },
      "source": [
        "dummy = DummyClassifier(strategy='uniform', random_state=1)\n",
        "dummy.fit(x_train, y_train)\n",
        "dummy.score(x_test, y_test)  "
      ],
      "execution_count": 13,
      "outputs": [
        {
          "output_type": "execute_result",
          "data": {
            "text/plain": [
              "0.5002247127889666"
            ]
          },
          "metadata": {
            "tags": []
          },
          "execution_count": 13
        }
      ]
    },
    {
      "cell_type": "markdown",
      "metadata": {
        "id": "W4zMxR8xeatL",
        "colab_type": "text"
      },
      "source": [
        "**Decision Tree**"
      ]
    },
    {
      "cell_type": "code",
      "metadata": {
        "id": "dvRzsqD9uE5j",
        "colab_type": "code",
        "colab": {
          "base_uri": "https://localhost:8080/",
          "height": 70
        },
        "outputId": "25bfbdbd-3478-4d64-efc6-6fdb6a94b16f"
      },
      "source": [
        "dt = DecisionTreeClassifier(min_samples_split = 30, max_depth = 4, random_state = 32)\n",
        "dt.fit(x_train, y_train)\n",
        "print(\"DT score: \", dt.score(x_test, y_test))\n",
        "print(\"Train score: \", cross_validate(dt, x_train, y_train)['test_score'].mean())\n",
        "print(\"Test score: \", cross_validate(dt, x_test, y_test)['test_score'].mean())"
      ],
      "execution_count": 14,
      "outputs": [
        {
          "output_type": "stream",
          "text": [
            "DT score:  0.9994241734782731\n",
            "Train score:  0.9993118138620349\n",
            "Test score:  0.9992415947308334\n"
          ],
          "name": "stdout"
        }
      ]
    },
    {
      "cell_type": "markdown",
      "metadata": {
        "id": "h2K6bmaRehir",
        "colab_type": "text"
      },
      "source": [
        "Feature Importances \n",
        "\n",
        "> Only 7 features have non-zero importance"
      ]
    },
    {
      "cell_type": "code",
      "metadata": {
        "id": "Ai7I0sHT9fSm",
        "colab_type": "code",
        "colab": {
          "base_uri": "https://localhost:8080/",
          "height": 1000
        },
        "outputId": "abb3075a-d5fb-48fe-c688-4121fb60fbeb"
      },
      "source": [
        "importances = dt.feature_importances_\n",
        "indices = np.argsort(importances)[::-1]\n",
        "\n",
        "print(\"Feature ranking:\")\n",
        "for f in range(x.shape[1]):\n",
        "  print(\"%d. %s (%f)\" % (f + 1, features[indices[f]], importances[indices[f]]))\n",
        "\n",
        "fig = plt.figure()\n",
        "plt.title(\"Feature importance\")\n",
        "plt.bar(range(x.shape[1]), importances[indices], color=\"b\", align=\"center\")\n",
        "plt.xticks(range(x.shape[1]), np.array(features)[indices])\n",
        "plt.xlim([-1, x.shape[1]])\n",
        "fig.set_size_inches(15, 8)\n",
        "axes = plt.gca()\n",
        "axes.set_ylim([0, None])"
      ],
      "execution_count": 15,
      "outputs": [
        {
          "output_type": "stream",
          "text": [
            "Feature ranking:\n",
            "1. V17 (0.736503)\n",
            "2. V10 (0.095296)\n",
            "3. V14 (0.088127)\n",
            "4. V27 (0.030293)\n",
            "5. V26 (0.027593)\n",
            "6. V21 (0.010449)\n",
            "7. V3 (0.006780)\n",
            "8. V12 (0.004958)\n",
            "9. V4 (0.000000)\n",
            "10. V5 (0.000000)\n",
            "11. V6 (0.000000)\n",
            "12. V7 (0.000000)\n",
            "13. V2 (0.000000)\n",
            "14. V8 (0.000000)\n",
            "15. V9 (0.000000)\n",
            "16. V1 (0.000000)\n",
            "17. V11 (0.000000)\n",
            "18. Amount (0.000000)\n",
            "19. V13 (0.000000)\n",
            "20. V28 (0.000000)\n",
            "21. V15 (0.000000)\n",
            "22. V16 (0.000000)\n",
            "23. V18 (0.000000)\n",
            "24. V19 (0.000000)\n",
            "25. V20 (0.000000)\n",
            "26. V22 (0.000000)\n",
            "27. V23 (0.000000)\n",
            "28. V24 (0.000000)\n",
            "29. V25 (0.000000)\n",
            "30. Time (0.000000)\n"
          ],
          "name": "stdout"
        },
        {
          "output_type": "execute_result",
          "data": {
            "text/plain": [
              "(0.0, 0.7733280314371411)"
            ]
          },
          "metadata": {
            "tags": []
          },
          "execution_count": 15
        },
        {
          "output_type": "display_data",
          "data": {
            "image/png": "[encoded data removed]",
            "text/plain": [
              "<Figure size 1080x576 with 1 Axes>"
            ]
          },
          "metadata": {
            "tags": [],
            "needs_background": "light"
          }
        }
      ]
    },
    {
      "cell_type": "markdown",
      "metadata": {
        "id": "ka4hAMnvesTm",
        "colab_type": "text"
      },
      "source": [
        "**Random Tree**"
      ]
    },
    {
      "cell_type": "code",
      "metadata": {
        "id": "CSITaolUuMo0",
        "colab_type": "code",
        "colab": {
          "base_uri": "https://localhost:8080/",
          "height": 70
        },
        "outputId": "2dafc3c3-c7ae-4c6d-ff1e-b55eedb40bb5"
      },
      "source": [
        "rf = RandomForestClassifier(n_estimators = 100, max_depth = 4, random_state = 32)\n",
        "rf.fit(x_train, y_train)\n",
        "print(\"DT score: \", rf.score(x_test, y_test))\n",
        "print(\"Train score: \", cross_validate(rf, x_train, y_train)['test_score'].mean())\n",
        "print(\"Test score: \", cross_validate(rf, x_test, y_test)['test_score'].mean())"
      ],
      "execution_count": 16,
      "outputs": [
        {
          "output_type": "stream",
          "text": [
            "DT score:  0.9993820398303418\n",
            "Train score:  0.9993445846305097\n",
            "Test score:  0.9993118174774687\n"
          ],
          "name": "stdout"
        }
      ]
    },
    {
      "cell_type": "markdown",
      "metadata": {
        "id": "GdSNtynBewH6",
        "colab_type": "text"
      },
      "source": [
        "Feature importances\n",
        "\n",
        "> All features have non-zero importance"
      ]
    },
    {
      "cell_type": "code",
      "metadata": {
        "id": "ZEHcapm595xA",
        "colab_type": "code",
        "colab": {
          "base_uri": "https://localhost:8080/",
          "height": 1000
        },
        "outputId": "d3ec7b92-7676-45c4-a253-d3c69664c455"
      },
      "source": [
        "importances = rf.feature_importances_\n",
        "std = np.std([tree.feature_importances_ for tree in rf.estimators_], axis=0)\n",
        "indices = np.argsort(importances)[::-1]\n",
        "\n",
        "print(\"Feature ranking:\")\n",
        "for f in range(x.shape[1]):\n",
        "  print(\"%d. %s (%f)\" % (f + 1, features[indices[f]], importances[indices[f]]))\n",
        "\n",
        "fig = plt.figure()\n",
        "plt.title(\"Feature importance\")\n",
        "plt.bar(range(x.shape[1]), importances[indices], color=\"b\", yerr=std[indices], align=\"center\")\n",
        "plt.xticks(range(x.shape[1]), np.array(features)[indices])\n",
        "plt.xlim([-1, x.shape[1]])\n",
        "fig.set_size_inches(15, 8)\n",
        "axes = plt.gca()\n",
        "axes.set_ylim([0, None])"
      ],
      "execution_count": 24,
      "outputs": [
        {
          "output_type": "stream",
          "text": [
            "Feature ranking:\n",
            "1. V17 (0.226127)\n",
            "2. V12 (0.165042)\n",
            "3. V10 (0.122450)\n",
            "4. V14 (0.116532)\n",
            "5. V16 (0.080437)\n",
            "6. V11 (0.077792)\n",
            "7. V18 (0.030342)\n",
            "8. V9 (0.028699)\n",
            "9. V7 (0.028462)\n",
            "10. V4 (0.026261)\n",
            "11. V3 (0.011895)\n",
            "12. V21 (0.011552)\n",
            "13. V26 (0.009491)\n",
            "14. V2 (0.008386)\n",
            "15. V27 (0.008285)\n",
            "16. V6 (0.008110)\n",
            "17. V8 (0.005718)\n",
            "18. V5 (0.005317)\n",
            "19. V20 (0.004531)\n",
            "20. V1 (0.004129)\n",
            "21. V19 (0.003324)\n",
            "22. V24 (0.003195)\n",
            "23. V15 (0.003130)\n",
            "24. V28 (0.002149)\n",
            "25. V22 (0.001933)\n",
            "26. Amount (0.001890)\n",
            "27. Time (0.001780)\n",
            "28. V23 (0.001203)\n",
            "29. V25 (0.000957)\n",
            "30. V13 (0.000883)\n"
          ],
          "name": "stdout"
        },
        {
          "output_type": "execute_result",
          "data": {
            "text/plain": [
              "(0.0, 0.5645685419451831)"
            ]
          },
          "metadata": {
            "tags": []
          },
          "execution_count": 24
        },
        {
          "output_type": "display_data",
          "data": {
            "image/png": "[encoded data removed]",
            "text/plain": [
              "<Figure size 1080x576 with 1 Axes>"
            ]
          },
          "metadata": {
            "tags": [],
            "needs_background": "light"
          }
        }
      ]
    },
    {
      "cell_type": "markdown",
      "metadata": {
        "id": "QUAjbMCPkk72",
        "colab_type": "text"
      },
      "source": [
        "**Decision Tree Regressor**"
      ]
    },
    {
      "cell_type": "code",
      "metadata": {
        "id": "r75w1c-3knwn",
        "colab_type": "code",
        "colab": {
          "base_uri": "https://localhost:8080/",
          "height": 52
        },
        "outputId": "c2d44b28-dd21-4530-a10a-bc01dad7fb13"
      },
      "source": [
        "tr = DecisionTreeRegressor(random_state = 0, max_depth = 4, min_samples_split= 30)\n",
        "tr.fit(x_train, y_train)\n",
        "print(\"Test score: \", tr.score(x_test, y_test))\n",
        "print(\"CrossVal score: \", cross_validate(tr, x_test, y_test, cv = 10)['test_score'].mean())"
      ],
      "execution_count": 20,
      "outputs": [
        {
          "output_type": "stream",
          "text": [
            "Test score:  0.6884789921708029\n",
            "CrossVal score:  0.6193094683733845\n"
          ],
          "name": "stdout"
        }
      ]
    }
  ]
}