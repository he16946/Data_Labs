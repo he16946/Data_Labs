{
  "nbformat": 4,
  "nbformat_minor": 0,
  "metadata": {
    "colab": {
      "name": "Bank_classification.ipynb",
      "provenance": [],
      "authorship_tag": "ABX9TyOD+NL+1/Rd5bkH7m4XDe7a",
      "include_colab_link": true
    },
    "kernelspec": {
      "name": "python3",
      "display_name": "Python 3"
    }
  },
  "cells": [
    {
      "cell_type": "markdown",
      "metadata": {
        "id": "view-in-github",
        "colab_type": "text"
      },
      "source": [
        "<a href=\"https://colab.research.google.com/github/he16946/Data_Labs/blob/master/Bank_classification.ipynb\" target=\"_parent\"><img src=\"https://colab.research.google.com/assets/colab-badge.svg\" alt=\"Open In Colab\"/></a>"
      ]
    },
    {
      "cell_type": "code",
      "metadata": {
        "id": "125wVUgb8ugu",
        "colab_type": "code",
        "colab": {}
      },
      "source": [
        "import pandas as pd"
      ],
      "execution_count": 0,
      "outputs": []
    },
    {
      "cell_type": "code",
      "metadata": {
        "id": "PZg6a7xj6SrW",
        "colab_type": "code",
        "colab": {
          "base_uri": "https://localhost:8080/",
          "height": 255
        },
        "outputId": "a17328d7-eb52-4969-fc38-8d2c9632a2e9"
      },
      "source": [
        "df = pd.read_csv(\"https://raw.githubusercontent.com/albanda/CE888/master/lab4/bank-additional-full.csv\", sep=';')\n",
        "#df.dtypes\n",
        "#df.nunique()\n",
        "df = pd.get_dummies(df, columns=['job', 'marital','education','default','housing', 'loan', 'contact', 'month', 'day_of_week', 'poutcome', 'y'])\n",
        "del df[\"y_no\"]\n",
        "del df[\"duration\"]\n",
        "\n",
        "\n",
        "\n"
      ],
      "execution_count": 25,
      "outputs": [
        {
          "output_type": "execute_result",
          "data": {
            "text/plain": [
              "<bound method DataFrame.nunique of        age  campaign  pdays  ...  poutcome_nonexistent  poutcome_success  y_yes\n",
              "0       56         1    999  ...                     1                 0      0\n",
              "1       57         1    999  ...                     1                 0      0\n",
              "2       37         1    999  ...                     1                 0      0\n",
              "3       40         1    999  ...                     1                 0      0\n",
              "4       56         1    999  ...                     1                 0      0\n",
              "...    ...       ...    ...  ...                   ...               ...    ...\n",
              "41183   73         1    999  ...                     1                 0      1\n",
              "41184   46         1    999  ...                     1                 0      0\n",
              "41185   56         2    999  ...                     1                 0      0\n",
              "41186   44         1    999  ...                     1                 0      1\n",
              "41187   74         3    999  ...                     0                 0      0\n",
              "\n",
              "[41188 rows x 63 columns]>"
            ]
          },
          "metadata": {
            "tags": []
          },
          "execution_count": 25
        }
      ]
    }
  ]
}