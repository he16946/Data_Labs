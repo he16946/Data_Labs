{
  "nbformat": 4,
  "nbformat_minor": 0,
  "metadata": {
    "colab": {
      "name": "BankNote.ipynb",
      "provenance": [],
      "authorship_tag": "ABX9TyN2pXivDgAIHOQx0gQJlp4z",
      "include_colab_link": true
    },
    "kernelspec": {
      "name": "python3",
      "display_name": "Python 3"
    }
  },
  "cells": [
    {
      "cell_type": "markdown",
      "metadata": {
        "id": "view-in-github",
        "colab_type": "text"
      },
      "source": [
        "<a href=\"https://colab.research.google.com/github/he16946/Data_Labs/blob/master/BankNote.ipynb\" target=\"_parent\"><img src=\"https://colab.research.google.com/assets/colab-badge.svg\" alt=\"Open In Colab\"/></a>"
      ]
    },
    {
      "cell_type": "markdown",
      "metadata": {
        "id": "XR0wGa0r00vC",
        "colab_type": "text"
      },
      "source": [
        "# Counterfiet Data"
      ]
    },
    {
      "cell_type": "code",
      "metadata": {
        "id": "4n7nMK6wroaX",
        "colab_type": "code",
        "colab": {}
      },
      "source": [
        "import os\n",
        "import pandas as pd\n",
        "import matplotlib.pyplot as plt\n",
        "from sklearn import tree\n",
        "from sklearn.model_selection import cross_validate, cross_val_score\n",
        "from sklearn.tree import DecisionTreeClassifier, export_graphviz\n",
        "from sklearn.ensemble import RandomForestClassifier\n",
        "from sklearn.model_selection import train_test_split\n",
        "from sklearn.dummy import DummyClassifier"
      ],
      "execution_count": 0,
      "outputs": []
    },
    {
      "cell_type": "markdown",
      "metadata": {
        "id": "PqDIyReT04Di",
        "colab_type": "text"
      },
      "source": [
        "## Downloading data"
      ]
    },
    {
      "cell_type": "code",
      "metadata": {
        "id": "IdtTjMGDdbIp",
        "colab_type": "code",
        "colab": {}
      },
      "source": [
        "import os\n",
        "import pandas as pd\n",
        "import numpy as np\n",
        "from numpy.random import rand\n",
        "import matplotlib.pyplot as plt\n",
        "from matplotlib.pyplot import figure"
      ],
      "execution_count": 0,
      "outputs": []
    },
    {
      "cell_type": "code",
      "metadata": {
        "id": "R6QVWDaHdja-",
        "colab_type": "code",
        "colab": {
          "base_uri": "https://localhost:8080/",
          "height": 70
        },
        "outputId": "d7530e61-3c73-4a58-f110-70ce09ef06b8"
      },
      "source": [
        "os.environ['KAGGLE_USERNAME'] = \"ce889group3\" # username from the json file\n",
        "\n",
        "os.environ['KAGGLE_KEY'] = \"f0ec34f29bf37cceb765b25f5a1bce2c\" # key from the json file\n",
        "\n",
        "! kaggle datasets download -d shantanuss/banknote-authentication-uci"
      ],
      "execution_count": 3,
      "outputs": [
        {
          "output_type": "stream",
          "text": [
            "Downloading banknote-authentication-uci.zip to /content\n",
            "\r  0% 0.00/19.2k [00:00<?, ?B/s]\n",
            "\r100% 19.2k/19.2k [00:00<00:00, 16.9MB/s]\n"
          ],
          "name": "stdout"
        }
      ]
    },
    {
      "cell_type": "code",
      "metadata": {
        "id": "KvWeOfdddmza",
        "colab_type": "code",
        "colab": {}
      },
      "source": [
        "! unzip -q \"banknote-authentication-uci.zip\""
      ],
      "execution_count": 0,
      "outputs": []
    },
    {
      "cell_type": "code",
      "metadata": {
        "id": "vrAQYWriqLnq",
        "colab_type": "code",
        "colab": {}
      },
      "source": [
        "df = pd.read_csv(\"BankNoteAuthentication.csv\")"
      ],
      "execution_count": 0,
      "outputs": []
    },
    {
      "cell_type": "code",
      "metadata": {
        "id": "35bg7wLZtSJP",
        "colab_type": "code",
        "colab": {
          "base_uri": "https://localhost:8080/",
          "height": 266
        },
        "outputId": "077bee69-55cf-4bbd-8469-64e3ddef4487"
      },
      "source": [
        "df.head"
      ],
      "execution_count": 7,
      "outputs": [
        {
          "output_type": "execute_result",
          "data": {
            "text/plain": [
              "<bound method NDFrame.head of       variance  skewness  curtosis  entropy  class\n",
              "0      3.62160   8.66610   -2.8073 -0.44699      0\n",
              "1      4.54590   8.16740   -2.4586 -1.46210      0\n",
              "2      3.86600  -2.63830    1.9242  0.10645      0\n",
              "3      3.45660   9.52280   -4.0112 -3.59440      0\n",
              "4      0.32924  -4.45520    4.5718 -0.98880      0\n",
              "...        ...       ...       ...      ...    ...\n",
              "1367   0.40614   1.34920   -1.4501 -0.55949      1\n",
              "1368  -1.38870  -4.87730    6.4774  0.34179      1\n",
              "1369  -3.75030 -13.45860   17.5932 -2.77710      1\n",
              "1370  -3.56370  -8.38270   12.3930 -1.28230      1\n",
              "1371  -2.54190  -0.65804    2.6842  1.19520      1\n",
              "\n",
              "[1372 rows x 5 columns]>"
            ]
          },
          "metadata": {
            "tags": []
          },
          "execution_count": 7
        }
      ]
    },
    {
      "cell_type": "code",
      "metadata": {
        "id": "Wpe1S9ARxbGw",
        "colab_type": "code",
        "colab": {
          "base_uri": "https://localhost:8080/",
          "height": 35
        },
        "outputId": "3e0ad0af-fba8-4feb-e350-1114aa889437"
      },
      "source": [
        "print(\"Total count: \", df['class'].count())"
      ],
      "execution_count": 8,
      "outputs": [
        {
          "output_type": "stream",
          "text": [
            "Total count:  1372\n"
          ],
          "name": "stdout"
        }
      ]
    },
    {
      "cell_type": "code",
      "metadata": {
        "id": "XlRR0HvFxfTB",
        "colab_type": "code",
        "colab": {
          "base_uri": "https://localhost:8080/",
          "height": 52
        },
        "outputId": "1921e5aa-5f2d-4d63-dc53-40873dd8fc19"
      },
      "source": [
        "print(\"Counterfiet: \", df['class'].value_counts()[1])\n",
        "print(\"Authentic: \", df['class'].value_counts()[0])"
      ],
      "execution_count": 9,
      "outputs": [
        {
          "output_type": "stream",
          "text": [
            "Counterfiet:  610\n",
            "Authentic:  762\n"
          ],
          "name": "stdout"
        }
      ]
    },
    {
      "cell_type": "code",
      "metadata": {
        "id": "xGnc29zQwWMz",
        "colab_type": "code",
        "colab": {
          "base_uri": "https://localhost:8080/",
          "height": 52
        },
        "outputId": "186532e4-36a0-4698-dd0b-778de07347cf"
      },
      "source": [
        "print('Counterfiet', round(df['class'].value_counts()[1]/len(df) * 100,2), '% of the dataset')\n",
        "print('Authentic', round(df['class'].value_counts()[0]/len(df) * 100,2), '% of the dataset')"
      ],
      "execution_count": 10,
      "outputs": [
        {
          "output_type": "stream",
          "text": [
            "Counterfiet 44.46 % of the dataset\n",
            "Authentic 55.54 % of the dataset\n"
          ],
          "name": "stdout"
        }
      ]
    },
    {
      "cell_type": "markdown",
      "metadata": {
        "id": "5zy1RVi40qNu",
        "colab_type": "text"
      },
      "source": [
        "## Creating imbalance"
      ]
    },
    {
      "cell_type": "code",
      "metadata": {
        "id": "ri9KK-OsxFnZ",
        "colab_type": "code",
        "colab": {}
      },
      "source": [
        "counterfiet = df.loc[df['class'] == 1]\n",
        "authentic = df.loc[df['class'] == 0]"
      ],
      "execution_count": 0,
      "outputs": []
    },
    {
      "cell_type": "code",
      "metadata": {
        "id": "Whm13cSuxRSP",
        "colab_type": "code",
        "colab": {}
      },
      "source": [
        "newcounterfiet = counterfiet.sample(n = 260, random_state = 1)"
      ],
      "execution_count": 0,
      "outputs": []
    },
    {
      "cell_type": "code",
      "metadata": {
        "id": "B6AGheFYyQDa",
        "colab_type": "code",
        "colab": {}
      },
      "source": [
        "imb = [authentic, newcounterfiet]\n",
        "imb = pd.concat(imb)"
      ],
      "execution_count": 0,
      "outputs": []
    },
    {
      "cell_type": "code",
      "metadata": {
        "id": "3o8-dPFyyX6D",
        "colab_type": "code",
        "colab": {
          "base_uri": "https://localhost:8080/",
          "height": 52
        },
        "outputId": "eb364ff9-c569-48a7-cf58-6cb22c844b70"
      },
      "source": [
        "print('Counterfiet', round(imb['class'].value_counts()[1]/len(imb) * 100,2), '% of the dataset')\n",
        "print('Authentic', round(imb['class'].value_counts()[0]/len(imb) * 100,2), '% of the dataset')"
      ],
      "execution_count": 14,
      "outputs": [
        {
          "output_type": "stream",
          "text": [
            "Counterfiet 25.44 % of the dataset\n",
            "Authentic 74.56 % of the dataset\n"
          ],
          "name": "stdout"
        }
      ]
    },
    {
      "cell_type": "markdown",
      "metadata": {
        "id": "uQrF-7oRp5qL",
        "colab_type": "text"
      },
      "source": [
        "## Preprocessing"
      ]
    },
    {
      "cell_type": "markdown",
      "metadata": {
        "id": "U6OS1WjfqqGw",
        "colab_type": "text"
      },
      "source": [
        "No columns need to be removed"
      ]
    },
    {
      "cell_type": "code",
      "metadata": {
        "id": "-XvH4bnGp9yw",
        "colab_type": "code",
        "colab": {
          "base_uri": "https://localhost:8080/",
          "height": 35
        },
        "outputId": "4fb0e56d-d4c7-4d5b-b858-8334c0449c59"
      },
      "source": [
        "imb.columns"
      ],
      "execution_count": 15,
      "outputs": [
        {
          "output_type": "execute_result",
          "data": {
            "text/plain": [
              "Index(['variance', 'skewness', 'curtosis', 'entropy', 'class'], dtype='object')"
            ]
          },
          "metadata": {
            "tags": []
          },
          "execution_count": 15
        }
      ]
    },
    {
      "cell_type": "code",
      "metadata": {
        "id": "4KLERBQOqVJ0",
        "colab_type": "code",
        "colab": {
          "base_uri": "https://localhost:8080/",
          "height": 194
        },
        "outputId": "1efb8684-d587-4bf7-a969-f25e4ba25d60"
      },
      "source": [
        "norm = ((imb - imb.min())/(imb.max()-imb.min()))\n",
        "norm.head()"
      ],
      "execution_count": 16,
      "outputs": [
        {
          "output_type": "execute_result",
          "data": {
            "text/html": [
              "<div>\n",
              "<style scoped>\n",
              "    .dataframe tbody tr th:only-of-type {\n",
              "        vertical-align: middle;\n",
              "    }\n",
              "\n",
              "    .dataframe tbody tr th {\n",
              "        vertical-align: top;\n",
              "    }\n",
              "\n",
              "    .dataframe thead th {\n",
              "        text-align: right;\n",
              "    }\n",
              "</style>\n",
              "<table border=\"1\" class=\"dataframe\">\n",
              "  <thead>\n",
              "    <tr style=\"text-align: right;\">\n",
              "      <th></th>\n",
              "      <th>variance</th>\n",
              "      <th>skewness</th>\n",
              "      <th>curtosis</th>\n",
              "      <th>entropy</th>\n",
              "      <th>class</th>\n",
              "    </tr>\n",
              "  </thead>\n",
              "  <tbody>\n",
              "    <tr>\n",
              "      <th>0</th>\n",
              "      <td>0.768909</td>\n",
              "      <td>0.839643</td>\n",
              "      <td>0.106783</td>\n",
              "      <td>0.736628</td>\n",
              "      <td>0.0</td>\n",
              "    </tr>\n",
              "    <tr>\n",
              "      <th>1</th>\n",
              "      <td>0.835591</td>\n",
              "      <td>0.820982</td>\n",
              "      <td>0.121804</td>\n",
              "      <td>0.644326</td>\n",
              "      <td>0.0</td>\n",
              "    </tr>\n",
              "    <tr>\n",
              "      <th>2</th>\n",
              "      <td>0.786541</td>\n",
              "      <td>0.416648</td>\n",
              "      <td>0.310608</td>\n",
              "      <td>0.786951</td>\n",
              "      <td>0.0</td>\n",
              "    </tr>\n",
              "    <tr>\n",
              "      <th>3</th>\n",
              "      <td>0.757005</td>\n",
              "      <td>0.871699</td>\n",
              "      <td>0.054921</td>\n",
              "      <td>0.450440</td>\n",
              "      <td>0.0</td>\n",
              "    </tr>\n",
              "    <tr>\n",
              "      <th>4</th>\n",
              "      <td>0.531385</td>\n",
              "      <td>0.348662</td>\n",
              "      <td>0.424662</td>\n",
              "      <td>0.687362</td>\n",
              "      <td>0.0</td>\n",
              "    </tr>\n",
              "  </tbody>\n",
              "</table>\n",
              "</div>"
            ],
            "text/plain": [
              "   variance  skewness  curtosis   entropy  class\n",
              "0  0.768909  0.839643  0.106783  0.736628    0.0\n",
              "1  0.835591  0.820982  0.121804  0.644326    0.0\n",
              "2  0.786541  0.416648  0.310608  0.786951    0.0\n",
              "3  0.757005  0.871699  0.054921  0.450440    0.0\n",
              "4  0.531385  0.348662  0.424662  0.687362    0.0"
            ]
          },
          "metadata": {
            "tags": []
          },
          "execution_count": 16
        }
      ]
    },
    {
      "cell_type": "markdown",
      "metadata": {
        "id": "Xn4WBgPNrIi5",
        "colab_type": "text"
      },
      "source": [
        "## Cross-validation"
      ]
    },
    {
      "cell_type": "code",
      "metadata": {
        "id": "ppnQOmFjrLyO",
        "colab_type": "code",
        "colab": {
          "base_uri": "https://localhost:8080/",
          "height": 35
        },
        "outputId": "a4e6a37c-8527-4e3f-d14e-117103c3aec9"
      },
      "source": [
        "features = list(norm.columns[0:4])\n",
        "print(features)"
      ],
      "execution_count": 17,
      "outputs": [
        {
          "output_type": "stream",
          "text": [
            "['variance', 'skewness', 'curtosis', 'entropy']\n"
          ],
          "name": "stdout"
        }
      ]
    },
    {
      "cell_type": "code",
      "metadata": {
        "id": "YsSVkGDbragH",
        "colab_type": "code",
        "colab": {}
      },
      "source": [
        "x = norm[features]\n",
        "y = norm['class']"
      ],
      "execution_count": 0,
      "outputs": []
    },
    {
      "cell_type": "code",
      "metadata": {
        "id": "Tu69cvSTEphH",
        "colab_type": "code",
        "colab": {}
      },
      "source": [
        "x_train, x_test, y_train, y_test = train_test_split(x, y, random_state=0)"
      ],
      "execution_count": 0,
      "outputs": []
    },
    {
      "cell_type": "code",
      "metadata": {
        "id": "MCD0T-cQEzDQ",
        "colab_type": "code",
        "colab": {
          "base_uri": "https://localhost:8080/",
          "height": 35
        },
        "outputId": "3bf30aad-9496-4167-e52e-79129ce346e9"
      },
      "source": [
        "dummy = DummyClassifier(strategy='uniform', random_state=1)\n",
        "dummy.fit(x_train, y_train)\n",
        "dummy.score(x_test, y_test)  "
      ],
      "execution_count": 31,
      "outputs": [
        {
          "output_type": "execute_result",
          "data": {
            "text/plain": [
              "0.46484375"
            ]
          },
          "metadata": {
            "tags": []
          },
          "execution_count": 31
        }
      ]
    },
    {
      "cell_type": "code",
      "metadata": {
        "id": "khi4jToZrhGo",
        "colab_type": "code",
        "colab": {
          "base_uri": "https://localhost:8080/",
          "height": 70
        },
        "outputId": "9d607ea4-4cf0-4893-becd-4ab51fab7692"
      },
      "source": [
        "dt = DecisionTreeClassifier(min_samples_split = 30, max_depth = 4, random_state = 32)\n",
        "dt.fit(x_train, y_train)\n",
        "print(\"DT score: \", dt.score(x_test, y_test))\n",
        "print(\"Train score: \", cross_validate(dt, x_train, y_train)['test_score'].mean())\n",
        "print(\"Test score: \", cross_validate(dt, x_test, y_test)['test_score'].mean())"
      ],
      "execution_count": 33,
      "outputs": [
        {
          "output_type": "stream",
          "text": [
            "DT score:  0.96484375\n",
            "Train score:  0.9517018928783635\n",
            "Test score:  0.9220211161387633\n"
          ],
          "name": "stdout"
        }
      ]
    },
    {
      "cell_type": "code",
      "metadata": {
        "id": "zEmAFedxsC6o",
        "colab_type": "code",
        "colab": {
          "base_uri": "https://localhost:8080/",
          "height": 70
        },
        "outputId": "1ecd0ee7-80c9-42e7-a00d-835205c21d20"
      },
      "source": [
        "rf = RandomForestClassifier(n_estimators = 100, max_depth = 4, random_state = 32)\n",
        "rf.fit(x_train, y_train)\n",
        "print(\"DT score: \", rf.score(x_test, y_test))\n",
        "print(\"Train score: \", cross_validate(rf, x_train, y_train)['test_score'].mean())\n",
        "print(\"Test score: \", cross_validate(rf, x_test, y_test)['test_score'].mean())"
      ],
      "execution_count": 34,
      "outputs": [
        {
          "output_type": "stream",
          "text": [
            "DT score:  0.953125\n",
            "Train score:  0.9504201680672268\n",
            "Test score:  0.9686274509803923\n"
          ],
          "name": "stdout"
        }
      ]
    },
    {
      "cell_type": "code",
      "metadata": {
        "id": "mtJD-6iF9OwU",
        "colab_type": "code",
        "colab": {
          "base_uri": "https://localhost:8080/",
          "height": 492
        },
        "outputId": "e2c86d6f-cc2a-442d-bb56-c1193b4d893d"
      },
      "source": [
        "dt.fit(x, y)\n",
        "importances = dt.feature_importances_\n",
        "indices = np.argsort(importances)[::-1]\n",
        "\n",
        "print(\"Feature ranking:\")\n",
        "for f in range(x.shape[1]):\n",
        "  print(\"%d. %s (%f)\" % (f + 1, features[indices[f]], importances[indices[f]]))\n",
        "\n",
        "fig = plt.figure()\n",
        "plt.title(\"Feature importance\")\n",
        "plt.bar(range(x.shape[1]), importances[indices], color=\"b\", align=\"center\")\n",
        "plt.xticks(range(x.shape[1]), np.array(features)[indices])\n",
        "plt.xlim([-1, x.shape[1]])\n",
        "fig.set_size_inches(15, 8)\n",
        "axes = plt.gca()\n",
        "axes.set_ylim([0, None])"
      ],
      "execution_count": 35,
      "outputs": [
        {
          "output_type": "stream",
          "text": [
            "Feature ranking:\n",
            "1. variance (0.635334)\n",
            "2. skewness (0.230231)\n",
            "3. curtosis (0.134435)\n",
            "4. entropy (0.000000)\n"
          ],
          "name": "stdout"
        },
        {
          "output_type": "execute_result",
          "data": {
            "text/plain": [
              "(0.0, 0.6671011713817672)"
            ]
          },
          "metadata": {
            "tags": []
          },
          "execution_count": 35
        },
        {
          "output_type": "display_data",
          "data": {
            "image/png": "[encoded data removed]",
            "text/plain": [
              "<Figure size 1080x576 with 1 Axes>"
            ]
          },
          "metadata": {
            "tags": [],
            "needs_background": "light"
          }
        }
      ]
    },
    {
      "cell_type": "code",
      "metadata": {
        "id": "tOKz58839wdt",
        "colab_type": "code",
        "colab": {
          "base_uri": "https://localhost:8080/",
          "height": 492
        },
        "outputId": "65d9499a-99b8-470c-b4fc-dbc2ca477b27"
      },
      "source": [
        "rf.fit(x, y)\n",
        "importances = rf.feature_importances_\n",
        "indices = np.argsort(importances)[::-1]\n",
        "\n",
        "print(\"Feature ranking:\")\n",
        "for f in range(x.shape[1]):\n",
        "  print(\"%d. %s (%f)\" % (f + 1, features[indices[f]], importances[indices[f]]))\n",
        "\n",
        "fig = plt.figure()\n",
        "plt.title(\"Feature importance\")\n",
        "plt.bar(range(x.shape[1]), importances[indices], color=\"b\", align=\"center\")\n",
        "plt.xticks(range(x.shape[1]), np.array(features)[indices])\n",
        "plt.xlim([-1, x.shape[1]])\n",
        "fig.set_size_inches(15, 8)\n",
        "axes = plt.gca()\n",
        "axes.set_ylim([0, None])"
      ],
      "execution_count": 36,
      "outputs": [
        {
          "output_type": "stream",
          "text": [
            "Feature ranking:\n",
            "1. variance (0.532800)\n",
            "2. skewness (0.266916)\n",
            "3. curtosis (0.142481)\n",
            "4. entropy (0.057803)\n"
          ],
          "name": "stdout"
        },
        {
          "output_type": "execute_result",
          "data": {
            "text/plain": [
              "(0.0, 0.5594394765951045)"
            ]
          },
          "metadata": {
            "tags": []
          },
          "execution_count": 36
        },
        {
          "output_type": "display_data",
          "data": {
            "image/png": "[encoded data removed]",
            "text/plain": [
              "<Figure size 1080x576 with 1 Axes>"
            ]
          },
          "metadata": {
            "tags": [],
            "needs_background": "light"
          }
        }
      ]
    }
  ]
}