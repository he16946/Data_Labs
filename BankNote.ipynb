{
  "nbformat": 4,
  "nbformat_minor": 0,
  "metadata": {
    "colab": {
      "name": "BankNote.ipynb",
      "provenance": [],
      "authorship_tag": "ABX9TyM8VIOKX80hxhzx+mG6aEn8",
      "include_colab_link": true
    },
    "kernelspec": {
      "name": "python3",
      "display_name": "Python 3"
    }
  },
  "cells": [
    {
      "cell_type": "markdown",
      "metadata": {
        "id": "view-in-github",
        "colab_type": "text"
      },
      "source": [
        "<a href=\"https://colab.research.google.com/github/he16946/Data_Labs/blob/master/BankNote.ipynb\" target=\"_parent\"><img src=\"https://colab.research.google.com/assets/colab-badge.svg\" alt=\"Open In Colab\"/></a>"
      ]
    },
    {
      "cell_type": "markdown",
      "metadata": {
        "id": "XR0wGa0r00vC",
        "colab_type": "text"
      },
      "source": [
        "# Counterfiet Data"
      ]
    },
    {
      "cell_type": "code",
      "metadata": {
        "id": "4n7nMK6wroaX",
        "colab_type": "code",
        "colab": {}
      },
      "source": [
        "import os\n",
        "import pandas as pd\n",
        "import numpy as np\n",
        "import matplotlib.pyplot as plt\n",
        "from sklearn.model_selection import (cross_validate, cross_val_score, KFold,\n",
        "                                      train_test_split, StratifiedKFold)\n",
        "from sklearn.tree import DecisionTreeClassifier,  DecisionTreeRegressor\n",
        "from sklearn.pipeline import make_pipeline\n",
        "from sklearn.linear_model import LogisticRegression\n",
        "from sklearn.preprocessing import StandardScaler\n",
        "from sklearn.ensemble import RandomForestClassifier\n",
        "from sklearn.dummy import DummyClassifier"
      ],
      "execution_count": 0,
      "outputs": []
    },
    {
      "cell_type": "markdown",
      "metadata": {
        "id": "PqDIyReT04Di",
        "colab_type": "text"
      },
      "source": [
        "## Downloading data"
      ]
    },
    {
      "cell_type": "code",
      "metadata": {
        "id": "R6QVWDaHdja-",
        "colab_type": "code",
        "colab": {
          "base_uri": "https://localhost:8080/",
          "height": 70
        },
        "outputId": "307e79bc-3d19-44b5-e544-b991b56295ba"
      },
      "source": [
        "os.environ['KAGGLE_USERNAME'] = \"ce889group3\" # username from the json file\n",
        "\n",
        "os.environ['KAGGLE_KEY'] = \"f0ec34f29bf37cceb765b25f5a1bce2c\" # key from the json file\n",
        "\n",
        "! kaggle datasets download -d shantanuss/banknote-authentication-uci"
      ],
      "execution_count": 2,
      "outputs": [
        {
          "output_type": "stream",
          "text": [
            "Downloading banknote-authentication-uci.zip to /content\n",
            "\r  0% 0.00/19.2k [00:00<?, ?B/s]\n",
            "\r100% 19.2k/19.2k [00:00<00:00, 22.7MB/s]\n"
          ],
          "name": "stdout"
        }
      ]
    },
    {
      "cell_type": "code",
      "metadata": {
        "id": "KvWeOfdddmza",
        "colab_type": "code",
        "colab": {}
      },
      "source": [
        "! unzip -q \"banknote-authentication-uci.zip\""
      ],
      "execution_count": 0,
      "outputs": []
    },
    {
      "cell_type": "code",
      "metadata": {
        "id": "vrAQYWriqLnq",
        "colab_type": "code",
        "colab": {}
      },
      "source": [
        "df = pd.read_csv(\"BankNoteAuthentication.csv\")"
      ],
      "execution_count": 0,
      "outputs": []
    },
    {
      "cell_type": "code",
      "metadata": {
        "id": "35bg7wLZtSJP",
        "colab_type": "code",
        "colab": {
          "base_uri": "https://localhost:8080/",
          "height": 266
        },
        "outputId": "c8fb257b-9864-48b7-d4ba-4610cec3a7e8"
      },
      "source": [
        "df.head"
      ],
      "execution_count": 5,
      "outputs": [
        {
          "output_type": "execute_result",
          "data": {
            "text/plain": [
              "<bound method NDFrame.head of       variance  skewness  curtosis  entropy  class\n",
              "0      3.62160   8.66610   -2.8073 -0.44699      0\n",
              "1      4.54590   8.16740   -2.4586 -1.46210      0\n",
              "2      3.86600  -2.63830    1.9242  0.10645      0\n",
              "3      3.45660   9.52280   -4.0112 -3.59440      0\n",
              "4      0.32924  -4.45520    4.5718 -0.98880      0\n",
              "...        ...       ...       ...      ...    ...\n",
              "1367   0.40614   1.34920   -1.4501 -0.55949      1\n",
              "1368  -1.38870  -4.87730    6.4774  0.34179      1\n",
              "1369  -3.75030 -13.45860   17.5932 -2.77710      1\n",
              "1370  -3.56370  -8.38270   12.3930 -1.28230      1\n",
              "1371  -2.54190  -0.65804    2.6842  1.19520      1\n",
              "\n",
              "[1372 rows x 5 columns]>"
            ]
          },
          "metadata": {
            "tags": []
          },
          "execution_count": 5
        }
      ]
    },
    {
      "cell_type": "code",
      "metadata": {
        "id": "Wpe1S9ARxbGw",
        "colab_type": "code",
        "colab": {
          "base_uri": "https://localhost:8080/",
          "height": 35
        },
        "outputId": "231a2fa4-dbb5-48e2-b68c-be8da94a67b6"
      },
      "source": [
        "print(\"Total count: \", df['class'].count())"
      ],
      "execution_count": 6,
      "outputs": [
        {
          "output_type": "stream",
          "text": [
            "Total count:  1372\n"
          ],
          "name": "stdout"
        }
      ]
    },
    {
      "cell_type": "code",
      "metadata": {
        "id": "XlRR0HvFxfTB",
        "colab_type": "code",
        "colab": {
          "base_uri": "https://localhost:8080/",
          "height": 52
        },
        "outputId": "9c060e97-47de-4aa9-85dc-0eec020999d3"
      },
      "source": [
        "print(\"Counterfiet: \", df['class'].value_counts()[1])\n",
        "print(\"Authentic: \", df['class'].value_counts()[0])"
      ],
      "execution_count": 7,
      "outputs": [
        {
          "output_type": "stream",
          "text": [
            "Counterfiet:  610\n",
            "Authentic:  762\n"
          ],
          "name": "stdout"
        }
      ]
    },
    {
      "cell_type": "code",
      "metadata": {
        "id": "xGnc29zQwWMz",
        "colab_type": "code",
        "colab": {
          "base_uri": "https://localhost:8080/",
          "height": 52
        },
        "outputId": "5e2bc28b-7fae-4c1c-8085-755523b48538"
      },
      "source": [
        "print('Counterfiet', round(df['class'].value_counts()[1]/len(df) * 100,2), '% of the dataset')\n",
        "print('Authentic', round(df['class'].value_counts()[0]/len(df) * 100,2), '% of the dataset')"
      ],
      "execution_count": 8,
      "outputs": [
        {
          "output_type": "stream",
          "text": [
            "Counterfiet 44.46 % of the dataset\n",
            "Authentic 55.54 % of the dataset\n"
          ],
          "name": "stdout"
        }
      ]
    },
    {
      "cell_type": "markdown",
      "metadata": {
        "id": "5zy1RVi40qNu",
        "colab_type": "text"
      },
      "source": [
        "## Creating imbalance"
      ]
    },
    {
      "cell_type": "code",
      "metadata": {
        "id": "ri9KK-OsxFnZ",
        "colab_type": "code",
        "colab": {}
      },
      "source": [
        "counterfiet = df.loc[df['class'] == 1]\n",
        "authentic = df.loc[df['class'] == 0]"
      ],
      "execution_count": 0,
      "outputs": []
    },
    {
      "cell_type": "code",
      "metadata": {
        "id": "Whm13cSuxRSP",
        "colab_type": "code",
        "colab": {}
      },
      "source": [
        "newcounterfiet = counterfiet.sample(n = 260, random_state = 1)"
      ],
      "execution_count": 0,
      "outputs": []
    },
    {
      "cell_type": "code",
      "metadata": {
        "id": "B6AGheFYyQDa",
        "colab_type": "code",
        "colab": {}
      },
      "source": [
        "imb = [authentic, newcounterfiet]\n",
        "imb = pd.concat(imb)"
      ],
      "execution_count": 0,
      "outputs": []
    },
    {
      "cell_type": "code",
      "metadata": {
        "id": "3o8-dPFyyX6D",
        "colab_type": "code",
        "colab": {
          "base_uri": "https://localhost:8080/",
          "height": 52
        },
        "outputId": "2c9ebd47-a542-48ea-aed4-d9d568ea67d1"
      },
      "source": [
        "print('Counterfiet', round(imb['class'].value_counts()[1]/len(imb) * 100,2), '% of the dataset')\n",
        "print('Authentic', round(imb['class'].value_counts()[0]/len(imb) * 100,2), '% of the dataset')"
      ],
      "execution_count": 12,
      "outputs": [
        {
          "output_type": "stream",
          "text": [
            "Counterfiet 25.44 % of the dataset\n",
            "Authentic 74.56 % of the dataset\n"
          ],
          "name": "stdout"
        }
      ]
    },
    {
      "cell_type": "markdown",
      "metadata": {
        "id": "uQrF-7oRp5qL",
        "colab_type": "text"
      },
      "source": [
        "## Preprocessing"
      ]
    },
    {
      "cell_type": "markdown",
      "metadata": {
        "id": "U6OS1WjfqqGw",
        "colab_type": "text"
      },
      "source": [
        "No columns need to be removed"
      ]
    },
    {
      "cell_type": "code",
      "metadata": {
        "id": "-XvH4bnGp9yw",
        "colab_type": "code",
        "colab": {
          "base_uri": "https://localhost:8080/",
          "height": 35
        },
        "outputId": "35cc8019-a968-44d5-c76c-a105bbe5115e"
      },
      "source": [
        "imb.columns"
      ],
      "execution_count": 13,
      "outputs": [
        {
          "output_type": "execute_result",
          "data": {
            "text/plain": [
              "Index(['variance', 'skewness', 'curtosis', 'entropy', 'class'], dtype='object')"
            ]
          },
          "metadata": {
            "tags": []
          },
          "execution_count": 13
        }
      ]
    },
    {
      "cell_type": "code",
      "metadata": {
        "id": "4KLERBQOqVJ0",
        "colab_type": "code",
        "colab": {
          "base_uri": "https://localhost:8080/",
          "height": 194
        },
        "outputId": "a8f5e39a-8520-4274-dbb5-c2f1cfe54f1d"
      },
      "source": [
        "norm = ((imb - imb.min())/(imb.max()-imb.min()))\n",
        "norm.head()"
      ],
      "execution_count": 14,
      "outputs": [
        {
          "output_type": "execute_result",
          "data": {
            "text/html": [
              "<div>\n",
              "<style scoped>\n",
              "    .dataframe tbody tr th:only-of-type {\n",
              "        vertical-align: middle;\n",
              "    }\n",
              "\n",
              "    .dataframe tbody tr th {\n",
              "        vertical-align: top;\n",
              "    }\n",
              "\n",
              "    .dataframe thead th {\n",
              "        text-align: right;\n",
              "    }\n",
              "</style>\n",
              "<table border=\"1\" class=\"dataframe\">\n",
              "  <thead>\n",
              "    <tr style=\"text-align: right;\">\n",
              "      <th></th>\n",
              "      <th>variance</th>\n",
              "      <th>skewness</th>\n",
              "      <th>curtosis</th>\n",
              "      <th>entropy</th>\n",
              "      <th>class</th>\n",
              "    </tr>\n",
              "  </thead>\n",
              "  <tbody>\n",
              "    <tr>\n",
              "      <th>0</th>\n",
              "      <td>0.768909</td>\n",
              "      <td>0.839643</td>\n",
              "      <td>0.106783</td>\n",
              "      <td>0.736628</td>\n",
              "      <td>0.0</td>\n",
              "    </tr>\n",
              "    <tr>\n",
              "      <th>1</th>\n",
              "      <td>0.835591</td>\n",
              "      <td>0.820982</td>\n",
              "      <td>0.121804</td>\n",
              "      <td>0.644326</td>\n",
              "      <td>0.0</td>\n",
              "    </tr>\n",
              "    <tr>\n",
              "      <th>2</th>\n",
              "      <td>0.786541</td>\n",
              "      <td>0.416648</td>\n",
              "      <td>0.310608</td>\n",
              "      <td>0.786951</td>\n",
              "      <td>0.0</td>\n",
              "    </tr>\n",
              "    <tr>\n",
              "      <th>3</th>\n",
              "      <td>0.757005</td>\n",
              "      <td>0.871699</td>\n",
              "      <td>0.054921</td>\n",
              "      <td>0.450440</td>\n",
              "      <td>0.0</td>\n",
              "    </tr>\n",
              "    <tr>\n",
              "      <th>4</th>\n",
              "      <td>0.531385</td>\n",
              "      <td>0.348662</td>\n",
              "      <td>0.424662</td>\n",
              "      <td>0.687362</td>\n",
              "      <td>0.0</td>\n",
              "    </tr>\n",
              "  </tbody>\n",
              "</table>\n",
              "</div>"
            ],
            "text/plain": [
              "   variance  skewness  curtosis   entropy  class\n",
              "0  0.768909  0.839643  0.106783  0.736628    0.0\n",
              "1  0.835591  0.820982  0.121804  0.644326    0.0\n",
              "2  0.786541  0.416648  0.310608  0.786951    0.0\n",
              "3  0.757005  0.871699  0.054921  0.450440    0.0\n",
              "4  0.531385  0.348662  0.424662  0.687362    0.0"
            ]
          },
          "metadata": {
            "tags": []
          },
          "execution_count": 14
        }
      ]
    },
    {
      "cell_type": "markdown",
      "metadata": {
        "id": "Xn4WBgPNrIi5",
        "colab_type": "text"
      },
      "source": [
        "## Cross-validation"
      ]
    },
    {
      "cell_type": "code",
      "metadata": {
        "id": "ppnQOmFjrLyO",
        "colab_type": "code",
        "colab": {
          "base_uri": "https://localhost:8080/",
          "height": 35
        },
        "outputId": "c566c780-86dd-4f97-8ffc-f4b86633bad9"
      },
      "source": [
        "features = list(norm.columns[0:4])\n",
        "print(features)"
      ],
      "execution_count": 15,
      "outputs": [
        {
          "output_type": "stream",
          "text": [
            "['variance', 'skewness', 'curtosis', 'entropy']\n"
          ],
          "name": "stdout"
        }
      ]
    },
    {
      "cell_type": "code",
      "metadata": {
        "id": "YsSVkGDbragH",
        "colab_type": "code",
        "colab": {}
      },
      "source": [
        "x = norm[features]\n",
        "y = norm['class']"
      ],
      "execution_count": 0,
      "outputs": []
    },
    {
      "cell_type": "code",
      "metadata": {
        "id": "8OlZYvP6b4Ny",
        "colab_type": "code",
        "colab": {
          "base_uri": "https://localhost:8080/",
          "height": 279
        },
        "outputId": "2f7a7ca0-2a54-4c76-fe00-b8843b0ac9c6"
      },
      "source": [
        "cmap_data = plt.cm.Paired\n",
        "def visualize_classes(classes):\n",
        "    fig, ax = plt.subplots()\n",
        "    ax.scatter(range(len(classes)),  [3.5] * len(classes), c=classes, marker='_',\n",
        "               lw=50, cmap=cmap_data)\n",
        "    ax.set(yticks=[3.5],\n",
        "           yticklabels=['Data\\nclass'], xlabel=\"Data\")\n",
        "\n",
        "\n",
        "visualize_classes(y)"
      ],
      "execution_count": 19,
      "outputs": [
        {
          "output_type": "display_data",
          "data": {
            "image/png": "[encoded data removed]",
            "text/plain": [
              "<Figure size 432x288 with 1 Axes>"
            ]
          },
          "metadata": {
            "tags": [],
            "needs_background": "light"
          }
        }
      ]
    },
    {
      "cell_type": "code",
      "metadata": {
        "id": "Tu69cvSTEphH",
        "colab_type": "code",
        "colab": {}
      },
      "source": [
        "x_train, x_test, y_train, y_test = train_test_split(x, y, random_state=0)"
      ],
      "execution_count": 0,
      "outputs": []
    },
    {
      "cell_type": "markdown",
      "metadata": {
        "id": "4zghzXJQcjzR",
        "colab_type": "text"
      },
      "source": [
        "**KFold Cross validation**"
      ]
    },
    {
      "cell_type": "code",
      "metadata": {
        "id": "MH5N-ZuKdwvT",
        "colab_type": "code",
        "colab": {}
      },
      "source": [
        "stnd = StandardScaler()\n",
        "logit = LogisticRegression()\n",
        "pipeline = make_pipeline(stnd, logit)\n",
        "kf = KFold(n_splits = 10)"
      ],
      "execution_count": 0,
      "outputs": []
    },
    {
      "cell_type": "code",
      "metadata": {
        "id": "Y68F4J4-jqaQ",
        "colab_type": "code",
        "colab": {
          "base_uri": "https://localhost:8080/",
          "height": 315
        },
        "outputId": "d73c137a-b2dc-46be-882d-a289e5b6102a"
      },
      "source": [
        "cmap_cv = plt.cm.coolwarm\n",
        "\n",
        "def plot_cv_indices(cv, X, y, ax, n_splits, lw=10):\n",
        "    \"\"\"Create a sample plot for indices of a cross-validation object.\"\"\"\n",
        "\n",
        "    # Generate the training/testing visualizations for each CV split\n",
        "    for ii, (tr, tt) in enumerate(cv.split(X=X, y=y)):\n",
        "        # Fill in indices with the training/test groups\n",
        "        indices = np.array([np.nan] * len(X))\n",
        "        indices[tt] = 1\n",
        "        indices[tr] = 0\n",
        "\n",
        "        ax.scatter(range(len(indices)), [ii + .5] * len(indices),\n",
        "                   c=indices, marker='_', lw=lw, cmap=cmap_cv,\n",
        "                   vmin=-.2, vmax=1.2)\n",
        "\n",
        "    ax.set(yticks=np.arange(n_splits+2),\n",
        "           xlabel='Data points', ylabel=\"CV iteration\",\n",
        "           ylim=[n_splits, -.2])\n",
        "    ax.set_title('{}'.format(type(cv).__name__), fontsize=15)\n",
        "    return ax\n",
        "\n",
        "fig, ax = plt.subplots()\n",
        "plot_cv_indices(kf, x, y, ax, 10)"
      ],
      "execution_count": 32,
      "outputs": [
        {
          "output_type": "execute_result",
          "data": {
            "text/plain": [
              "<matplotlib.axes._subplots.AxesSubplot at 0x7f2bf6010518>"
            ]
          },
          "metadata": {
            "tags": []
          },
          "execution_count": 32
        },
        {
          "output_type": "display_data",
          "data": {
            "image/png": "[encoded data removed]",
            "text/plain": [
              "<Figure size 432x288 with 1 Axes>"
            ]
          },
          "metadata": {
            "tags": [],
            "needs_background": "light"
          }
        }
      ]
    },
    {
      "cell_type": "code",
      "metadata": {
        "id": "cZEPc6ZddzdA",
        "colab_type": "code",
        "colab": {
          "base_uri": "https://localhost:8080/",
          "height": 35
        },
        "outputId": "ae361462-b8bc-4679-ef45-3737a5347163"
      },
      "source": [
        "cv_results = cross_val_score(pipeline, x, y, cv=kf,scoring=\"accuracy\", n_jobs=-1)\n",
        "cv_results.mean()"
      ],
      "execution_count": 29,
      "outputs": [
        {
          "output_type": "execute_result",
          "data": {
            "text/plain": [
              "0.9863125832857416"
            ]
          },
          "metadata": {
            "tags": []
          },
          "execution_count": 29
        }
      ]
    },
    {
      "cell_type": "markdown",
      "metadata": {
        "id": "kjAh3W9acu2P",
        "colab_type": "text"
      },
      "source": [
        "## Classifiers"
      ]
    },
    {
      "cell_type": "markdown",
      "metadata": {
        "id": "ghrb3b8Bcxbi",
        "colab_type": "text"
      },
      "source": [
        "**Dummy Classifier**"
      ]
    },
    {
      "cell_type": "code",
      "metadata": {
        "id": "MCD0T-cQEzDQ",
        "colab_type": "code",
        "colab": {
          "base_uri": "https://localhost:8080/",
          "height": 35
        },
        "outputId": "76f77ef8-9cfe-4edb-fe6b-bb4fe0f5bf49"
      },
      "source": [
        "dummy = DummyClassifier(strategy='uniform', random_state=1)\n",
        "dummy.fit(x_train, y_train)\n",
        "dummy.score(x_test, y_test)  "
      ],
      "execution_count": 20,
      "outputs": [
        {
          "output_type": "execute_result",
          "data": {
            "text/plain": [
              "0.46484375"
            ]
          },
          "metadata": {
            "tags": []
          },
          "execution_count": 20
        }
      ]
    },
    {
      "cell_type": "markdown",
      "metadata": {
        "id": "QexL4YU5c2Br",
        "colab_type": "text"
      },
      "source": [
        "**Decision Tree**"
      ]
    },
    {
      "cell_type": "code",
      "metadata": {
        "id": "khi4jToZrhGo",
        "colab_type": "code",
        "colab": {
          "base_uri": "https://localhost:8080/",
          "height": 70
        },
        "outputId": "69e8a9d2-6473-493a-bcaa-c720d3d8a8ec"
      },
      "source": [
        "dt = DecisionTreeClassifier(min_samples_split = 30, max_depth = 4, random_state = 32)\n",
        "dt.fit(x_train, y_train)\n",
        "print(\"DT score: \", dt.score(x_test, y_test))\n",
        "print(\"Train score: \", cross_validate(dt, x_train, y_train)['test_score'].mean())\n",
        "print(\"Test score: \", cross_validate(dt, x_test, y_test)['test_score'].mean())"
      ],
      "execution_count": 21,
      "outputs": [
        {
          "output_type": "stream",
          "text": [
            "DT score:  0.96484375\n",
            "Train score:  0.9517018928783635\n",
            "Test score:  0.9220211161387633\n"
          ],
          "name": "stdout"
        }
      ]
    },
    {
      "cell_type": "markdown",
      "metadata": {
        "id": "o7y1FUaGdd9U",
        "colab_type": "text"
      },
      "source": [
        "Feature importances\n",
        "\n",
        "> One feature has zero importance"
      ]
    },
    {
      "cell_type": "code",
      "metadata": {
        "id": "NKluKNuNdCJq",
        "colab_type": "code",
        "colab": {
          "base_uri": "https://localhost:8080/",
          "height": 562
        },
        "outputId": "f4dfdee3-e705-42ac-8826-d9a0b8cfbc59"
      },
      "source": [
        "importances = dt.feature_importances_\n",
        "indices = np.argsort(importances)[::-1]\n",
        "\n",
        "print(\"Feature ranking:\")\n",
        "for f in range(x.shape[1]):\n",
        "  print(\"%d. %s (%f)\" % (f + 1, features[indices[f]], importances[indices[f]]))\n",
        "\n",
        "fig = plt.figure()\n",
        "plt.title(\"Feature importance\")\n",
        "plt.bar(range(x.shape[1]), importances[indices], color=\"b\", align=\"center\")\n",
        "plt.xticks(range(x.shape[1]), np.array(features)[indices])\n",
        "plt.xlim([-1, x.shape[1]])\n",
        "fig.set_size_inches(15, 8)\n",
        "axes = plt.gca()\n",
        "axes.set_ylim([0, None])"
      ],
      "execution_count": 22,
      "outputs": [
        {
          "output_type": "stream",
          "text": [
            "Feature ranking:\n",
            "1. variance (0.596689)\n",
            "2. skewness (0.309718)\n",
            "3. curtosis (0.093594)\n",
            "4. entropy (0.000000)\n"
          ],
          "name": "stdout"
        },
        {
          "output_type": "execute_result",
          "data": {
            "text/plain": [
              "(0.0, 0.6265229767661425)"
            ]
          },
          "metadata": {
            "tags": []
          },
          "execution_count": 22
        },
        {
          "output_type": "display_data",
          "data": {
            "image/png": "[encoded data removed]",
            "text/plain": [
              "<Figure size 1080x576 with 1 Axes>"
            ]
          },
          "metadata": {
            "tags": [],
            "needs_background": "light"
          }
        }
      ]
    },
    {
      "cell_type": "markdown",
      "metadata": {
        "id": "nmpfuUEpc7ZX",
        "colab_type": "text"
      },
      "source": [
        "**Random Forest**"
      ]
    },
    {
      "cell_type": "code",
      "metadata": {
        "id": "zEmAFedxsC6o",
        "colab_type": "code",
        "colab": {
          "base_uri": "https://localhost:8080/",
          "height": 70
        },
        "outputId": "49cdb4f0-8a3e-45af-8a37-01761c7d1c5b"
      },
      "source": [
        "rf = RandomForestClassifier(n_estimators = 100, max_depth = 4, random_state = 32)\n",
        "rf.fit(x_train, y_train)\n",
        "print(\"DT score: \", rf.score(x_test, y_test))\n",
        "print(\"Train score: \", cross_validate(rf, x_train, y_train)['test_score'].mean())\n",
        "print(\"Test score: \", cross_validate(rf, x_test, y_test)['test_score'].mean())"
      ],
      "execution_count": 24,
      "outputs": [
        {
          "output_type": "stream",
          "text": [
            "DT score:  0.953125\n",
            "Train score:  0.9504201680672268\n",
            "Test score:  0.9686274509803923\n"
          ],
          "name": "stdout"
        }
      ]
    },
    {
      "cell_type": "markdown",
      "metadata": {
        "id": "FoYN4sCxdY1h",
        "colab_type": "text"
      },
      "source": [
        "Feature importances\n",
        "\n",
        ">All features have non-zero importance"
      ]
    },
    {
      "cell_type": "code",
      "metadata": {
        "id": "tOKz58839wdt",
        "colab_type": "code",
        "colab": {
          "base_uri": "https://localhost:8080/",
          "height": 562
        },
        "outputId": "189dd61e-60d6-4201-fe44-0e98b62cb83e"
      },
      "source": [
        "importances = rf.feature_importances_\n",
        "std = np.std([tree.feature_importances_ for tree in rf.estimators_], axis=0)\n",
        "indices = np.argsort(importances)[::-1]\n",
        "\n",
        "print(\"Feature ranking:\")\n",
        "for f in range(x.shape[1]):\n",
        "  print(\"%d. %s (%f)\" % (f + 1, features[indices[f]], importances[indices[f]]))\n",
        "\n",
        "fig = plt.figure()\n",
        "plt.title(\"Feature importance\")\n",
        "plt.bar(range(x.shape[1]), importances[indices], color=\"b\", yerr=std[indices],align=\"center\")\n",
        "plt.xticks(range(x.shape[1]), np.array(features)[indices])\n",
        "plt.xlim([-1, x.shape[1]])\n",
        "fig.set_size_inches(15, 8)\n",
        "axes = plt.gca()\n",
        "axes.set_ylim([0, None])"
      ],
      "execution_count": 26,
      "outputs": [
        {
          "output_type": "stream",
          "text": [
            "Feature ranking:\n",
            "1. variance (0.523010)\n",
            "2. skewness (0.282809)\n",
            "3. curtosis (0.129580)\n",
            "4. entropy (0.064600)\n"
          ],
          "name": "stdout"
        },
        {
          "output_type": "execute_result",
          "data": {
            "text/plain": [
              "(0.0, 0.6975215636985113)"
            ]
          },
          "metadata": {
            "tags": []
          },
          "execution_count": 26
        },
        {
          "output_type": "display_data",
          "data": {
            "image/png": "[encoded data removed]",
            "text/plain": [
              "<Figure size 1080x576 with 1 Axes>"
            ]
          },
          "metadata": {
            "tags": [],
            "needs_background": "light"
          }
        }
      ]
    }
  ]
}