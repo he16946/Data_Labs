{
  "nbformat": 4,
  "nbformat_minor": 0,
  "metadata": {
    "colab": {
      "name": "my_recommender.ipynb",
      "provenance": [],
      "authorship_tag": "ABX9TyPMqNCgX7Bi972LHJZ+J6ML",
      "include_colab_link": true
    },
    "kernelspec": {
      "name": "python3",
      "display_name": "Python 3"
    }
  },
  "cells": [
    {
      "cell_type": "markdown",
      "metadata": {
        "id": "view-in-github",
        "colab_type": "text"
      },
      "source": [
        "<a href=\"https://colab.research.google.com/github/he16946/Data_Labs/blob/master/my_recommender.ipynb\" target=\"_parent\"><img src=\"https://colab.research.google.com/assets/colab-badge.svg\" alt=\"Open In Colab\"/></a>"
      ]
    },
    {
      "cell_type": "code",
      "metadata": {
        "id": "95TB5ecJ8Sqm",
        "colab_type": "code",
        "colab": {}
      },
      "source": [
        "import pandas as pd\n",
        "import numpy as np"
      ],
      "execution_count": 0,
      "outputs": []
    },
    {
      "cell_type": "code",
      "metadata": {
        "id": "_p_1anTz_3Rm",
        "colab_type": "code",
        "colab": {}
      },
      "source": [
        "df = pd.read_csv('https://raw.githubusercontent.com/albanda/CE888/master/lab5-recommender/jester-data-1.csv', delimiter=',')"
      ],
      "execution_count": 0,
      "outputs": []
    },
    {
      "cell_type": "code",
      "metadata": {
        "id": "sixFsCy6FLQj",
        "colab_type": "code",
        "colab": {
          "base_uri": "https://localhost:8080/",
          "height": 34
        },
        "outputId": "febacac5-a6d3-422c-fb30-155c386acb6c"
      },
      "source": [
        "#example of the returned array when using np.where\n",
        "x = np.array([[1, 2, 3], [4, 5, 6]], np.int32)\n",
        "np.where(x!=1)"
      ],
      "execution_count": 14,
      "outputs": [
        {
          "output_type": "execute_result",
          "data": {
            "text/plain": [
              "(array([0, 0, 1, 1, 1]), array([1, 2, 0, 1, 2]))"
            ]
          },
          "metadata": {
            "tags": []
          },
          "execution_count": 14
        }
      ]
    },
    {
      "cell_type": "code",
      "metadata": {
        "id": "lZIAlY2iAC35",
        "colab_type": "code",
        "colab": {
          "base_uri": "https://localhost:8080/",
          "height": 34
        },
        "outputId": "99bb5c9e-8027-43ca-928d-305467a93596"
      },
      "source": [
        "array = df.values\n",
        "\n",
        "def replace(array):\n",
        "\n",
        "  #make a copy of data\n",
        "  new_data = array.copy() \n",
        "\n",
        "  #return every non-99 index in the array\n",
        "  rated = np.where(array!=99) \n",
        "\n",
        "  #how many values are non-99\n",
        "  n_rated = len(rated[0]) \n",
        "\n",
        "  #returns index of a random 10% sample of non-99s\n",
        "  idx = np.random.choice(n_rated, size=int(0.1*n_rated), replace = False) \n",
        "\n",
        "  #replaces the value at index of the random 10% and replaces them with 99 in the non-99 array\n",
        "  new_data[rated[0][idx], rated[1][idx]] = 99\n",
        "\n",
        "  #returns new array with a random 10% of 99s\n",
        "  return new_data, (rated[0][idx], rated[1][idx])\n",
        "\n",
        "new_array, idx = replace(array)\n",
        "\n",
        "#original array value (where idx is an array of indexes)\n",
        "array[idx[0][0], idx[1][0]] \n",
        "\n",
        "#new array value (where the idx index is the same position as in the original)\n",
        "new_array[idx[0][0], idx[1][0]]"
      ],
      "execution_count": 23,
      "outputs": [
        {
          "output_type": "execute_result",
          "data": {
            "text/plain": [
              "99.0"
            ]
          },
          "metadata": {
            "tags": []
          },
          "execution_count": 23
        }
      ]
    }
  ]
}