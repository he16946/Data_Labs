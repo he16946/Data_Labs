{
  "nbformat": 4,
  "nbformat_minor": 0,
  "metadata": {
    "colab": {
      "name": "my_recommender.ipynb",
      "provenance": [],
      "authorship_tag": "ABX9TyP6GQgIQaOOCezPSBcKuVev",
      "include_colab_link": true
    },
    "kernelspec": {
      "name": "python3",
      "display_name": "Python 3"
    }
  },
  "cells": [
    {
      "cell_type": "markdown",
      "metadata": {
        "id": "view-in-github",
        "colab_type": "text"
      },
      "source": [
        "<a href=\"https://colab.research.google.com/github/he16946/Data_Labs/blob/master/my_recommender.ipynb\" target=\"_parent\"><img src=\"https://colab.research.google.com/assets/colab-badge.svg\" alt=\"Open In Colab\"/></a>"
      ]
    },
    {
      "cell_type": "code",
      "metadata": {
        "id": "95TB5ecJ8Sqm",
        "colab_type": "code",
        "colab": {}
      },
      "source": [
        "import pandas as pd\n",
        "import numpy as np"
      ],
      "execution_count": 0,
      "outputs": []
    },
    {
      "cell_type": "code",
      "metadata": {
        "id": "_p_1anTz_3Rm",
        "colab_type": "code",
        "colab": {}
      },
      "source": [
        "df = pd.read_csv('https://raw.githubusercontent.com/albanda/CE888/master/lab5-recommender/jester-data-1.csv', delimiter=',')\n",
        "\n",
        "df = df.drop(df.columns[0], axis = 1)\n",
        "df.shape\n",
        "\n",
        "array = df.values"
      ],
      "execution_count": 0,
      "outputs": []
    },
    {
      "cell_type": "code",
      "metadata": {
        "id": "sixFsCy6FLQj",
        "colab_type": "code",
        "colab": {
          "base_uri": "https://localhost:8080/",
          "height": 34
        },
        "outputId": "f942e0f7-0d18-47db-c667-aca31eeb4251"
      },
      "source": [
        "#example of the returned array when using np.where\n",
        "x = np.array([[1, 2, 3], [4, 5, 6]], np.int32)\n",
        "np.where(x!=1)"
      ],
      "execution_count": 51,
      "outputs": [
        {
          "output_type": "execute_result",
          "data": {
            "text/plain": [
              "(array([0, 0, 1, 1, 1]), array([1, 2, 0, 1, 2]))"
            ]
          },
          "metadata": {
            "tags": []
          },
          "execution_count": 51
        }
      ]
    },
    {
      "cell_type": "code",
      "metadata": {
        "id": "lZIAlY2iAC35",
        "colab_type": "code",
        "colab": {
          "base_uri": "https://localhost:8080/",
          "height": 34
        },
        "outputId": "8226c34e-9e79-4dcb-f65a-aa05b57c9f66"
      },
      "source": [
        "#creating validation values\n",
        "def replace(array):\n",
        "\n",
        "  #make a copy of data\n",
        "  new_data = array.copy() \n",
        "\n",
        "  #return every non-99 index in the array\n",
        "  rated = np.where(array!=99) \n",
        "\n",
        "  #how many values are non-99\n",
        "  n_rated = len(rated[0]) \n",
        "\n",
        "  #returns 2 arrays of indexs of a random 10% sample of non-99s\n",
        "  idx = np.random.choice(n_rated, size=int(0.1*n_rated), replace = False) \n",
        "\n",
        "  #replaces the value at index of the random 10% and replaces them with 99 in the non-99 array\n",
        "  new_data[rated[0][idx], rated[1][idx]] = 99\n",
        "\n",
        "  #returns new array with a random 10% of 99s\n",
        "  return new_data, (rated[0][idx], rated[1][idx])\n",
        "\n",
        "new_array, idx = replace(array)\n",
        "\n",
        "#original array value (where idx is an array of indexes)\n",
        "array[idx[0][0], idx[1][0]] \n",
        "\n",
        "#new array value (where the idx index is the same position as in the original)\n",
        "new_array[idx[0][0], idx[1][0]]\n"
      ],
      "execution_count": 58,
      "outputs": [
        {
          "output_type": "execute_result",
          "data": {
            "text/plain": [
              "(24982, 100)"
            ]
          },
          "metadata": {
            "tags": []
          },
          "execution_count": 58
        }
      ]
    },
    {
      "cell_type": "code",
      "metadata": {
        "id": "L-dxExxQJXGU",
        "colab_type": "code",
        "colab": {}
      },
      "source": [
        "n_latent_factors = 2\n",
        "\n",
        "# Initialise as random values\n",
        "latent_user_preferences = np.random.random((array.shape[0], n_latent_factors))\n",
        "latent_item_features = np.random.random((array.shape[1], n_latent_factors))"
      ],
      "execution_count": 0,
      "outputs": []
    },
    {
      "cell_type": "code",
      "metadata": {
        "id": "-Ar4EgjAO_jw",
        "colab_type": "code",
        "colab": {}
      },
      "source": [
        "# user_id (0,24982) number of row\n",
        "#itedm_id (0,100) number of column\n",
        "\n",
        "def predict_rating(user_id, item_id):\n",
        "    \"\"\" Predict a rating given a user_id and an item_id.\n",
        "    \"\"\"\n",
        "    user_preference = latent_user_preferences[user_id]\n",
        "    item_preference = latent_item_features[item_id]\n",
        "    return user_preference.dot(item_preference)\n",
        "\n",
        "def train(user_id, item_id, rating, alpha=0.0001):\n",
        "    #print item_id\n",
        "    prediction_rating = predict_rating(user_id, item_id)\n",
        "    err =  prediction_rating - return_rating(user_id, item_id)\n",
        "    #print err\n",
        "    user_pref_values = latent_user_preferences[user_id][:]\n",
        "    latent_user_preferences[user_id] -= alpha * err * latent_item_features[item_id]\n",
        "    latent_item_features[item_id] -= alpha * err * user_pref_values\n",
        "    return err\n",
        "    \n",
        "\n",
        "def sgd(iterations=300000):\n",
        "    \"\"\" Iterate over all users and all items and train for \n",
        "        a certain number of iterations\n",
        "    \"\"\"\n",
        "    for iteration in range(iterations):\n",
        "        error = []\n",
        "        for user_id in range(latent_user_preferences.shape[0]):\n",
        "            for item_id in range(latent_item_features.shape[0]):\n",
        "                rating = new_array[user_id][item_id]\n",
        "                if rating!= 99:\n",
        "                    err = train(user_id, item_id, rating)\n",
        "                    error.append(err)\n",
        "        mse = (np.array(error) ** 2).mean()   \n",
        "        if (iteration % 10000) == 0:\n",
        "            print(mse)\n",
        "\n",
        "\n",
        "sgd(10)"
      ],
      "execution_count": 0,
      "outputs": []
    },
    {
      "cell_type": "code",
      "metadata": {
        "id": "p7TZXXMSarAA",
        "colab_type": "code",
        "colab": {
          "base_uri": "https://localhost:8080/",
          "height": 34
        },
        "outputId": "e92bc49a-6dca-486c-e003-4887234c7e8b"
      },
      "source": [
        "def validation_error():\n",
        "  error = []\n",
        "  for i in range(0,24982):\n",
        "    for j in range(0,100):\n",
        "      val_error =  new_array[idx[0][i], idx[1][j]] - predict_rating(i, j)\n",
        "      error.append(val_error)\n",
        "  mse = (np.array(error) ** 2).mean()\n",
        "  print(mse)   \n",
        "\n",
        "validation_error()"
      ],
      "execution_count": 73,
      "outputs": [
        {
          "output_type": "stream",
          "text": [
            "1176.632320030599\n"
          ],
          "name": "stdout"
        }
      ]
    }
  ]
}