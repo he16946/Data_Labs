{
  "nbformat": 4,
  "nbformat_minor": 0,
  "metadata": {
    "colab": {
      "name": "Spotify.ipynb",
      "provenance": [],
      "authorship_tag": "ABX9TyPLrnMndXuxZ4N5ny+NDhLv",
      "include_colab_link": true
    },
    "kernelspec": {
      "name": "python3",
      "display_name": "Python 3"
    }
  },
  "cells": [
    {
      "cell_type": "markdown",
      "metadata": {
        "id": "view-in-github",
        "colab_type": "text"
      },
      "source": [
        "<a href=\"https://colab.research.google.com/github/he16946/Data_Labs/blob/master/Spotify.ipynb\" target=\"_parent\"><img src=\"https://colab.research.google.com/assets/colab-badge.svg\" alt=\"Open In Colab\"/></a>"
      ]
    },
    {
      "cell_type": "markdown",
      "metadata": {
        "id": "Eg2Id8P6phTR",
        "colab_type": "text"
      },
      "source": [
        "# Spotify Data"
      ]
    },
    {
      "cell_type": "code",
      "metadata": {
        "id": "QOqlgjpMcAaK",
        "colab_type": "code",
        "colab": {}
      },
      "source": [
        "import os\n",
        "import pandas as pd\n",
        "import matplotlib.pyplot as plt\n",
        "from sklearn import tree\n",
        "from sklearn.model_selection import cross_validate\n",
        "from sklearn.tree import DecisionTreeClassifier\n",
        "from sklearn.ensemble import RandomForestClassifier"
      ],
      "execution_count": 0,
      "outputs": []
    },
    {
      "cell_type": "markdown",
      "metadata": {
        "id": "gMCJ0FXPp3tv",
        "colab_type": "text"
      },
      "source": [
        "## Downloading data"
      ]
    },
    {
      "cell_type": "code",
      "metadata": {
        "id": "1l-ChNkLgvTQ",
        "colab_type": "code",
        "colab": {
          "base_uri": "https://localhost:8080/",
          "height": 70
        },
        "outputId": "98ba71d9-06b5-471b-b2fc-1d57fbb04a45"
      },
      "source": [
        "os.environ['KAGGLE_USERNAME'] = \"ce889group3\" # username from the json file\n",
        "\n",
        "os.environ['KAGGLE_KEY'] = \"f0ec34f29bf37cceb765b25f5a1bce2c\" # key from the json file\n",
        "\n",
        "!kaggle datasets download -d geomack/spotifyclassification"
      ],
      "execution_count": 2,
      "outputs": [
        {
          "output_type": "stream",
          "text": [
            "Downloading spotifyclassification.zip to /content\n",
            "\r  0% 0.00/98.4k [00:00<?, ?B/s]\n",
            "\r100% 98.4k/98.4k [00:00<00:00, 28.6MB/s]\n"
          ],
          "name": "stdout"
        }
      ]
    },
    {
      "cell_type": "code",
      "metadata": {
        "id": "CSGezWJMgyGK",
        "colab_type": "code",
        "colab": {}
      },
      "source": [
        "! unzip -q \"spotifyclassification.zip\""
      ],
      "execution_count": 0,
      "outputs": []
    },
    {
      "cell_type": "code",
      "metadata": {
        "id": "zGl1iq2og00d",
        "colab_type": "code",
        "colab": {}
      },
      "source": [
        "df = pd.read_csv(\"data.csv\")"
      ],
      "execution_count": 0,
      "outputs": []
    },
    {
      "cell_type": "code",
      "metadata": {
        "id": "BUgQijEVg6ZX",
        "colab_type": "code",
        "colab": {
          "base_uri": "https://localhost:8080/",
          "height": 106
        },
        "outputId": "2ce9fa74-0287-4bee-d1f9-38ff104fdaa4"
      },
      "source": [
        "df.columns"
      ],
      "execution_count": 5,
      "outputs": [
        {
          "output_type": "execute_result",
          "data": {
            "text/plain": [
              "Index(['Unnamed: 0', 'acousticness', 'danceability', 'duration_ms', 'energy',\n",
              "       'instrumentalness', 'key', 'liveness', 'loudness', 'mode',\n",
              "       'speechiness', 'tempo', 'time_signature', 'valence', 'target',\n",
              "       'song_title', 'artist'],\n",
              "      dtype='object')"
            ]
          },
          "metadata": {
            "tags": []
          },
          "execution_count": 5
        }
      ]
    },
    {
      "cell_type": "code",
      "metadata": {
        "id": "l-qHqpDKjb4b",
        "colab_type": "code",
        "colab": {
          "base_uri": "https://localhost:8080/",
          "height": 35
        },
        "outputId": "487db544-43fd-41c1-94fa-31b0b3298c21"
      },
      "source": [
        "print(\"Total count: \", df['target'].count())"
      ],
      "execution_count": 6,
      "outputs": [
        {
          "output_type": "stream",
          "text": [
            "Total count:  2017\n"
          ],
          "name": "stdout"
        }
      ]
    },
    {
      "cell_type": "code",
      "metadata": {
        "id": "vUsgZXnhikq4",
        "colab_type": "code",
        "colab": {
          "base_uri": "https://localhost:8080/",
          "height": 52
        },
        "outputId": "7469c172-d74f-45f8-f720-a9973be4dc2c"
      },
      "source": [
        "print(\"Liked: \", df['target'].value_counts()[1])\n",
        "print(\"Disliked: \", df['target'].value_counts()[0])"
      ],
      "execution_count": 7,
      "outputs": [
        {
          "output_type": "stream",
          "text": [
            "Liked:  1020\n",
            "Disliked:  997\n"
          ],
          "name": "stdout"
        }
      ]
    },
    {
      "cell_type": "code",
      "metadata": {
        "id": "BL9ZhwEhg9Xw",
        "colab_type": "code",
        "colab": {
          "base_uri": "https://localhost:8080/",
          "height": 52
        },
        "outputId": "42e4b1e5-a8b8-43dc-99c0-f613e2bf65d5"
      },
      "source": [
        "print('Like', round(df['target'].value_counts()[1]/len(df) * 100,2), '% of the dataset')\n",
        "print('Dislike', round(df['target'].value_counts()[0]/len(df) * 100,2), '% of the dataset')"
      ],
      "execution_count": 8,
      "outputs": [
        {
          "output_type": "stream",
          "text": [
            "Like 50.57 % of the dataset\n",
            "Dislike 49.43 % of the dataset\n"
          ],
          "name": "stdout"
        }
      ]
    },
    {
      "cell_type": "markdown",
      "metadata": {
        "id": "KMyLuZSKmoFb",
        "colab_type": "text"
      },
      "source": [
        "## Creating the imbalance"
      ]
    },
    {
      "cell_type": "markdown",
      "metadata": {
        "id": "GPNM-QjlnPv7",
        "colab_type": "text"
      },
      "source": [
        "To create the ratio 60 : 40 we reduce the number of disliked songs to 612. \n",
        "\n",
        "First the two categories are split:"
      ]
    },
    {
      "cell_type": "code",
      "metadata": {
        "id": "MRKCUq_3l80O",
        "colab_type": "code",
        "colab": {}
      },
      "source": [
        "like = df.loc[df['target'] == 1]\n",
        "dislike = df.loc[df['target'] == 0]"
      ],
      "execution_count": 0,
      "outputs": []
    },
    {
      "cell_type": "markdown",
      "metadata": {
        "id": "B65U6TXToLjf",
        "colab_type": "text"
      },
      "source": [
        "612 random rows are obtained from the Dislikes"
      ]
    },
    {
      "cell_type": "code",
      "metadata": {
        "id": "Cd_B6xRumtKz",
        "colab_type": "code",
        "colab": {}
      },
      "source": [
        "newdis = dislike.sample(n = 612, random_state = 1)"
      ],
      "execution_count": 0,
      "outputs": []
    },
    {
      "cell_type": "code",
      "metadata": {
        "id": "N82RKxs-oYWB",
        "colab_type": "code",
        "colab": {}
      },
      "source": [
        "imb = [like, newdis]\n",
        "imb = pd.concat(imb)"
      ],
      "execution_count": 0,
      "outputs": []
    },
    {
      "cell_type": "code",
      "metadata": {
        "id": "dSUGo2kQpN2E",
        "colab_type": "code",
        "colab": {
          "base_uri": "https://localhost:8080/",
          "height": 52
        },
        "outputId": "d5503e8e-5b3e-451c-edd5-39c98c293edc"
      },
      "source": [
        "print('Like', round(imb['target'].value_counts()[1]/len(imb) * 100,2), '% of the dataset')\n",
        "print('Dislike', round(imb['target'].value_counts()[0]/len(imb) * 100,2), '% of the dataset')"
      ],
      "execution_count": 12,
      "outputs": [
        {
          "output_type": "stream",
          "text": [
            "Like 62.5 % of the dataset\n",
            "Dislike 37.5 % of the dataset\n"
          ],
          "name": "stdout"
        }
      ]
    },
    {
      "cell_type": "markdown",
      "metadata": {
        "id": "OuIVEbPM1pC9",
        "colab_type": "text"
      },
      "source": [
        "## Preprocessing"
      ]
    },
    {
      "cell_type": "code",
      "metadata": {
        "id": "9GQG-dp61e9l",
        "colab_type": "code",
        "colab": {
          "base_uri": "https://localhost:8080/",
          "height": 298
        },
        "outputId": "5f018fb2-eb68-455f-c8c0-9e9b16e72d2d"
      },
      "source": [
        "imb.head()"
      ],
      "execution_count": 13,
      "outputs": [
        {
          "output_type": "execute_result",
          "data": {
            "text/html": [
              "<div>\n",
              "<style scoped>\n",
              "    .dataframe tbody tr th:only-of-type {\n",
              "        vertical-align: middle;\n",
              "    }\n",
              "\n",
              "    .dataframe tbody tr th {\n",
              "        vertical-align: top;\n",
              "    }\n",
              "\n",
              "    .dataframe thead th {\n",
              "        text-align: right;\n",
              "    }\n",
              "</style>\n",
              "<table border=\"1\" class=\"dataframe\">\n",
              "  <thead>\n",
              "    <tr style=\"text-align: right;\">\n",
              "      <th></th>\n",
              "      <th>Unnamed: 0</th>\n",
              "      <th>acousticness</th>\n",
              "      <th>danceability</th>\n",
              "      <th>duration_ms</th>\n",
              "      <th>energy</th>\n",
              "      <th>instrumentalness</th>\n",
              "      <th>key</th>\n",
              "      <th>liveness</th>\n",
              "      <th>loudness</th>\n",
              "      <th>mode</th>\n",
              "      <th>speechiness</th>\n",
              "      <th>tempo</th>\n",
              "      <th>time_signature</th>\n",
              "      <th>valence</th>\n",
              "      <th>target</th>\n",
              "      <th>song_title</th>\n",
              "      <th>artist</th>\n",
              "    </tr>\n",
              "  </thead>\n",
              "  <tbody>\n",
              "    <tr>\n",
              "      <th>0</th>\n",
              "      <td>0</td>\n",
              "      <td>0.0102</td>\n",
              "      <td>0.833</td>\n",
              "      <td>204600</td>\n",
              "      <td>0.434</td>\n",
              "      <td>0.021900</td>\n",
              "      <td>2</td>\n",
              "      <td>0.1650</td>\n",
              "      <td>-8.795</td>\n",
              "      <td>1</td>\n",
              "      <td>0.4310</td>\n",
              "      <td>150.062</td>\n",
              "      <td>4.0</td>\n",
              "      <td>0.286</td>\n",
              "      <td>1</td>\n",
              "      <td>Mask Off</td>\n",
              "      <td>Future</td>\n",
              "    </tr>\n",
              "    <tr>\n",
              "      <th>1</th>\n",
              "      <td>1</td>\n",
              "      <td>0.1990</td>\n",
              "      <td>0.743</td>\n",
              "      <td>326933</td>\n",
              "      <td>0.359</td>\n",
              "      <td>0.006110</td>\n",
              "      <td>1</td>\n",
              "      <td>0.1370</td>\n",
              "      <td>-10.401</td>\n",
              "      <td>1</td>\n",
              "      <td>0.0794</td>\n",
              "      <td>160.083</td>\n",
              "      <td>4.0</td>\n",
              "      <td>0.588</td>\n",
              "      <td>1</td>\n",
              "      <td>Redbone</td>\n",
              "      <td>Childish Gambino</td>\n",
              "    </tr>\n",
              "    <tr>\n",
              "      <th>2</th>\n",
              "      <td>2</td>\n",
              "      <td>0.0344</td>\n",
              "      <td>0.838</td>\n",
              "      <td>185707</td>\n",
              "      <td>0.412</td>\n",
              "      <td>0.000234</td>\n",
              "      <td>2</td>\n",
              "      <td>0.1590</td>\n",
              "      <td>-7.148</td>\n",
              "      <td>1</td>\n",
              "      <td>0.2890</td>\n",
              "      <td>75.044</td>\n",
              "      <td>4.0</td>\n",
              "      <td>0.173</td>\n",
              "      <td>1</td>\n",
              "      <td>Xanny Family</td>\n",
              "      <td>Future</td>\n",
              "    </tr>\n",
              "    <tr>\n",
              "      <th>3</th>\n",
              "      <td>3</td>\n",
              "      <td>0.6040</td>\n",
              "      <td>0.494</td>\n",
              "      <td>199413</td>\n",
              "      <td>0.338</td>\n",
              "      <td>0.510000</td>\n",
              "      <td>5</td>\n",
              "      <td>0.0922</td>\n",
              "      <td>-15.236</td>\n",
              "      <td>1</td>\n",
              "      <td>0.0261</td>\n",
              "      <td>86.468</td>\n",
              "      <td>4.0</td>\n",
              "      <td>0.230</td>\n",
              "      <td>1</td>\n",
              "      <td>Master Of None</td>\n",
              "      <td>Beach House</td>\n",
              "    </tr>\n",
              "    <tr>\n",
              "      <th>4</th>\n",
              "      <td>4</td>\n",
              "      <td>0.1800</td>\n",
              "      <td>0.678</td>\n",
              "      <td>392893</td>\n",
              "      <td>0.561</td>\n",
              "      <td>0.512000</td>\n",
              "      <td>5</td>\n",
              "      <td>0.4390</td>\n",
              "      <td>-11.648</td>\n",
              "      <td>0</td>\n",
              "      <td>0.0694</td>\n",
              "      <td>174.004</td>\n",
              "      <td>4.0</td>\n",
              "      <td>0.904</td>\n",
              "      <td>1</td>\n",
              "      <td>Parallel Lines</td>\n",
              "      <td>Junior Boys</td>\n",
              "    </tr>\n",
              "  </tbody>\n",
              "</table>\n",
              "</div>"
            ],
            "text/plain": [
              "   Unnamed: 0  acousticness  ...      song_title            artist\n",
              "0           0        0.0102  ...        Mask Off            Future\n",
              "1           1        0.1990  ...         Redbone  Childish Gambino\n",
              "2           2        0.0344  ...    Xanny Family            Future\n",
              "3           3        0.6040  ...  Master Of None       Beach House\n",
              "4           4        0.1800  ...  Parallel Lines       Junior Boys\n",
              "\n",
              "[5 rows x 17 columns]"
            ]
          },
          "metadata": {
            "tags": []
          },
          "execution_count": 13
        }
      ]
    },
    {
      "cell_type": "markdown",
      "metadata": {
        "id": "3hcBYuQi1sva",
        "colab_type": "text"
      },
      "source": [
        "Song title and Artist name columns are removed"
      ]
    },
    {
      "cell_type": "code",
      "metadata": {
        "id": "ZbNgdcyy2nR8",
        "colab_type": "code",
        "colab": {}
      },
      "source": [
        "imb = imb.drop(['song_title', 'artist'], axis = 1)"
      ],
      "execution_count": 0,
      "outputs": []
    },
    {
      "cell_type": "code",
      "metadata": {
        "id": "H3v-mp3JXQaU",
        "colab_type": "code",
        "colab": {
          "base_uri": "https://localhost:8080/",
          "height": 88
        },
        "outputId": "220915ad-e924-4f52-9b1a-5c0291bc5051"
      },
      "source": [
        "norm = ((imb - imb.min())/(imb.max()-imb.min()))\n",
        "norm.columns"
      ],
      "execution_count": 15,
      "outputs": [
        {
          "output_type": "execute_result",
          "data": {
            "text/plain": [
              "Index(['Unnamed: 0', 'acousticness', 'danceability', 'duration_ms', 'energy',\n",
              "       'instrumentalness', 'key', 'liveness', 'loudness', 'mode',\n",
              "       'speechiness', 'tempo', 'time_signature', 'valence', 'target'],\n",
              "      dtype='object')"
            ]
          },
          "metadata": {
            "tags": []
          },
          "execution_count": 15
        }
      ]
    },
    {
      "cell_type": "markdown",
      "metadata": {
        "id": "i4fi12-acdWG",
        "colab_type": "text"
      },
      "source": [
        "## Cross-validation"
      ]
    },
    {
      "cell_type": "code",
      "metadata": {
        "id": "6UxSfqlXZTCV",
        "colab_type": "code",
        "colab": {
          "base_uri": "https://localhost:8080/",
          "height": 55
        },
        "outputId": "91fe2aea-55dc-40e4-928a-71628f70cc56"
      },
      "source": [
        "features = list(norm.columns[1:14])\n",
        "print(features)"
      ],
      "execution_count": 16,
      "outputs": [
        {
          "output_type": "stream",
          "text": [
            "['acousticness', 'danceability', 'duration_ms', 'energy', 'instrumentalness', 'key', 'liveness', 'loudness', 'mode', 'speechiness', 'tempo', 'time_signature', 'valence']\n"
          ],
          "name": "stdout"
        }
      ]
    },
    {
      "cell_type": "code",
      "metadata": {
        "id": "cdNUNLlXZsv6",
        "colab_type": "code",
        "colab": {}
      },
      "source": [
        "x = norm[features]\n",
        "y = norm['target']"
      ],
      "execution_count": 0,
      "outputs": []
    },
    {
      "cell_type": "code",
      "metadata": {
        "id": "Wdhlr9ZiZ-2m",
        "colab_type": "code",
        "colab": {
          "base_uri": "https://localhost:8080/",
          "height": 35
        },
        "outputId": "a09c8d2e-9f98-482d-f0e6-5cf47a947742"
      },
      "source": [
        "dt = DecisionTreeClassifier(min_samples_split = 30, max_depth = 4, random_state = 32)\n",
        "dt_result = cross_validate(dt, x, y)\n",
        "print(\"Result: \", dt_result['test_score'].mean())"
      ],
      "execution_count": 18,
      "outputs": [
        {
          "output_type": "stream",
          "text": [
            "Result:  0.7377553892047054\n"
          ],
          "name": "stdout"
        }
      ]
    },
    {
      "cell_type": "code",
      "metadata": {
        "id": "BJjIzctKhfJ7",
        "colab_type": "code",
        "colab": {
          "base_uri": "https://localhost:8080/",
          "height": 35
        },
        "outputId": "5d1f9563-d60e-4c6b-9e1e-becc5a2a07fd"
      },
      "source": [
        "rf = RandomForestClassifier(n_estimators = 100, max_depth = 4, random_state = 32)\n",
        "rf_result = cross_validate(rf, x, y)\n",
        "print(\"Result: \", rf_result['test_score'].mean())"
      ],
      "execution_count": 19,
      "outputs": [
        {
          "output_type": "stream",
          "text": [
            "Result:  0.7445001031875574\n"
          ],
          "name": "stdout"
        }
      ]
    },
    {
      "cell_type": "code",
      "metadata": {
        "id": "PKVMmOaXpl6D",
        "colab_type": "code",
        "colab": {}
      },
      "source": [
        ""
      ],
      "execution_count": 0,
      "outputs": []
    }
  ]
}