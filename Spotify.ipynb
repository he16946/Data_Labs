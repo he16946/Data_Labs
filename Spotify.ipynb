{
  "nbformat": 4,
  "nbformat_minor": 0,
  "metadata": {
    "colab": {
      "name": "Spotify.ipynb",
      "provenance": [],
      "authorship_tag": "ABX9TyN6l9ZbK+iyhq6geKXIKByF",
      "include_colab_link": true
    },
    "kernelspec": {
      "name": "python3",
      "display_name": "Python 3"
    }
  },
  "cells": [
    {
      "cell_type": "markdown",
      "metadata": {
        "id": "view-in-github",
        "colab_type": "text"
      },
      "source": [
        "<a href=\"https://colab.research.google.com/github/he16946/Data_Labs/blob/master/Spotify.ipynb\" target=\"_parent\"><img src=\"https://colab.research.google.com/assets/colab-badge.svg\" alt=\"Open In Colab\"/></a>"
      ]
    },
    {
      "cell_type": "code",
      "metadata": {
        "id": "KP9CF_4CXgZQ",
        "colab_type": "code",
        "colab": {
          "base_uri": "https://localhost:8080/",
          "height": 34
        },
        "outputId": "2b8c9849-fd66-4829-c0b5-63d517cd2112"
      },
      "source": [
        "import os\n",
        "import pandas as pd\n",
        "\n",
        "os.environ['KAGGLE_USERNAME'] = \"ce889group3\" # username from the json file\n",
        "\n",
        "os.environ['KAGGLE_KEY'] = \"2fec783dbd857229b51562347fd33dfe\" # key from the json file\n",
        "\n",
        "! kaggle datasets download -d iamsumat/spotify-top-2000s-mega-dataset\n",
        "! unzip -q \"spotify-top-2000s-mega-dataset.zip\""
      ],
      "execution_count": 2,
      "outputs": [
        {
          "output_type": "stream",
          "text": [
            "spotify-top-2000s-mega-dataset.zip: Skipping, found more recently modified local copy (use --force to force download)\n"
          ],
          "name": "stdout"
        }
      ]
    },
    {
      "cell_type": "code",
      "metadata": {
        "id": "tZewHDXwXpfa",
        "colab_type": "code",
        "colab": {}
      },
      "source": [
        "df = pd.read_csv(\"Spotify-2000.csv\")"
      ],
      "execution_count": 0,
      "outputs": []
    },
    {
      "cell_type": "code",
      "metadata": {
        "id": "i695uqIQX75p",
        "colab_type": "code",
        "colab": {
          "base_uri": "https://localhost:8080/",
          "height": 349
        },
        "outputId": "3e232a3e-1e5e-47f8-c969-49559862558d"
      },
      "source": [
        "df.describe()"
      ],
      "execution_count": 5,
      "outputs": [
        {
          "output_type": "execute_result",
          "data": {
            "text/html": [
              "<div>\n",
              "<style scoped>\n",
              "    .dataframe tbody tr th:only-of-type {\n",
              "        vertical-align: middle;\n",
              "    }\n",
              "\n",
              "    .dataframe tbody tr th {\n",
              "        vertical-align: top;\n",
              "    }\n",
              "\n",
              "    .dataframe thead th {\n",
              "        text-align: right;\n",
              "    }\n",
              "</style>\n",
              "<table border=\"1\" class=\"dataframe\">\n",
              "  <thead>\n",
              "    <tr style=\"text-align: right;\">\n",
              "      <th></th>\n",
              "      <th>Index</th>\n",
              "      <th>Year</th>\n",
              "      <th>Beats Per Minute (BPM)</th>\n",
              "      <th>Energy</th>\n",
              "      <th>Danceability</th>\n",
              "      <th>Loudness (dB)</th>\n",
              "      <th>Liveness</th>\n",
              "      <th>Valence</th>\n",
              "      <th>Acousticness</th>\n",
              "      <th>Speechiness</th>\n",
              "      <th>Popularity</th>\n",
              "    </tr>\n",
              "  </thead>\n",
              "  <tbody>\n",
              "    <tr>\n",
              "      <th>count</th>\n",
              "      <td>1994.000000</td>\n",
              "      <td>1994.000000</td>\n",
              "      <td>1994.000000</td>\n",
              "      <td>1994.000000</td>\n",
              "      <td>1994.000000</td>\n",
              "      <td>1994.000000</td>\n",
              "      <td>1994.000000</td>\n",
              "      <td>1994.000000</td>\n",
              "      <td>1994.000000</td>\n",
              "      <td>1994.000000</td>\n",
              "      <td>1994.00000</td>\n",
              "    </tr>\n",
              "    <tr>\n",
              "      <th>mean</th>\n",
              "      <td>997.500000</td>\n",
              "      <td>1992.992979</td>\n",
              "      <td>120.215647</td>\n",
              "      <td>59.679539</td>\n",
              "      <td>53.238215</td>\n",
              "      <td>-9.008526</td>\n",
              "      <td>19.012036</td>\n",
              "      <td>49.408726</td>\n",
              "      <td>28.858074</td>\n",
              "      <td>4.994985</td>\n",
              "      <td>59.52658</td>\n",
              "    </tr>\n",
              "    <tr>\n",
              "      <th>std</th>\n",
              "      <td>575.762538</td>\n",
              "      <td>16.116048</td>\n",
              "      <td>28.028096</td>\n",
              "      <td>22.154322</td>\n",
              "      <td>15.351507</td>\n",
              "      <td>3.647876</td>\n",
              "      <td>16.727378</td>\n",
              "      <td>24.858212</td>\n",
              "      <td>29.011986</td>\n",
              "      <td>4.401566</td>\n",
              "      <td>14.35160</td>\n",
              "    </tr>\n",
              "    <tr>\n",
              "      <th>min</th>\n",
              "      <td>1.000000</td>\n",
              "      <td>1956.000000</td>\n",
              "      <td>37.000000</td>\n",
              "      <td>3.000000</td>\n",
              "      <td>10.000000</td>\n",
              "      <td>-27.000000</td>\n",
              "      <td>2.000000</td>\n",
              "      <td>3.000000</td>\n",
              "      <td>0.000000</td>\n",
              "      <td>2.000000</td>\n",
              "      <td>11.00000</td>\n",
              "    </tr>\n",
              "    <tr>\n",
              "      <th>25%</th>\n",
              "      <td>499.250000</td>\n",
              "      <td>1979.000000</td>\n",
              "      <td>99.000000</td>\n",
              "      <td>42.000000</td>\n",
              "      <td>43.000000</td>\n",
              "      <td>-11.000000</td>\n",
              "      <td>9.000000</td>\n",
              "      <td>29.000000</td>\n",
              "      <td>3.000000</td>\n",
              "      <td>3.000000</td>\n",
              "      <td>49.25000</td>\n",
              "    </tr>\n",
              "    <tr>\n",
              "      <th>50%</th>\n",
              "      <td>997.500000</td>\n",
              "      <td>1993.000000</td>\n",
              "      <td>119.000000</td>\n",
              "      <td>61.000000</td>\n",
              "      <td>53.000000</td>\n",
              "      <td>-8.000000</td>\n",
              "      <td>12.000000</td>\n",
              "      <td>47.000000</td>\n",
              "      <td>18.000000</td>\n",
              "      <td>4.000000</td>\n",
              "      <td>62.00000</td>\n",
              "    </tr>\n",
              "    <tr>\n",
              "      <th>75%</th>\n",
              "      <td>1495.750000</td>\n",
              "      <td>2007.000000</td>\n",
              "      <td>136.000000</td>\n",
              "      <td>78.000000</td>\n",
              "      <td>64.000000</td>\n",
              "      <td>-6.000000</td>\n",
              "      <td>23.000000</td>\n",
              "      <td>69.750000</td>\n",
              "      <td>50.000000</td>\n",
              "      <td>5.000000</td>\n",
              "      <td>71.00000</td>\n",
              "    </tr>\n",
              "    <tr>\n",
              "      <th>max</th>\n",
              "      <td>1994.000000</td>\n",
              "      <td>2019.000000</td>\n",
              "      <td>206.000000</td>\n",
              "      <td>100.000000</td>\n",
              "      <td>96.000000</td>\n",
              "      <td>-2.000000</td>\n",
              "      <td>99.000000</td>\n",
              "      <td>99.000000</td>\n",
              "      <td>99.000000</td>\n",
              "      <td>55.000000</td>\n",
              "      <td>100.00000</td>\n",
              "    </tr>\n",
              "  </tbody>\n",
              "</table>\n",
              "</div>"
            ],
            "text/plain": [
              "             Index         Year  ...  Speechiness  Popularity\n",
              "count  1994.000000  1994.000000  ...  1994.000000  1994.00000\n",
              "mean    997.500000  1992.992979  ...     4.994985    59.52658\n",
              "std     575.762538    16.116048  ...     4.401566    14.35160\n",
              "min       1.000000  1956.000000  ...     2.000000    11.00000\n",
              "25%     499.250000  1979.000000  ...     3.000000    49.25000\n",
              "50%     997.500000  1993.000000  ...     4.000000    62.00000\n",
              "75%    1495.750000  2007.000000  ...     5.000000    71.00000\n",
              "max    1994.000000  2019.000000  ...    55.000000   100.00000\n",
              "\n",
              "[8 rows x 11 columns]"
            ]
          },
          "metadata": {
            "tags": []
          },
          "execution_count": 5
        }
      ]
    },
    {
      "cell_type": "code",
      "metadata": {
        "id": "4z5032psYLe-",
        "colab_type": "code",
        "colab": {
          "base_uri": "https://localhost:8080/",
          "height": 34
        },
        "outputId": "083a2b82-4cfc-45a4-8cb6-60cd63ecc658"
      },
      "source": [
        "print('Speechy', round(df['Speechiness'].value_counts()[2.000000]/len(df) * 100,2), '% of the dataset')"
      ],
      "execution_count": 7,
      "outputs": [
        {
          "output_type": "stream",
          "text": [
            "No Frauds 1.55 % of the dataset\n"
          ],
          "name": "stdout"
        }
      ]
    },
    {
      "cell_type": "code",
      "metadata": {
        "id": "l9mbBqscZEzV",
        "colab_type": "code",
        "colab": {
          "base_uri": "https://localhost:8080/",
          "height": 676
        },
        "outputId": "9948f500-c65f-4b98-a5b9-8246674b6df6"
      },
      "source": [
        "df['Speechiness'].value_counts()"
      ],
      "execution_count": 8,
      "outputs": [
        {
          "output_type": "execute_result",
          "data": {
            "text/plain": [
              "3     876\n",
              "4     472\n",
              "5     208\n",
              "6     123\n",
              "7      60\n",
              "8      50\n",
              "2      31\n",
              "10     30\n",
              "9      28\n",
              "12     16\n",
              "11     12\n",
              "17     11\n",
              "15      9\n",
              "14      8\n",
              "13      7\n",
              "18      6\n",
              "19      5\n",
              "16      5\n",
              "20      4\n",
              "30      4\n",
              "24      4\n",
              "23      3\n",
              "31      3\n",
              "32      3\n",
              "25      2\n",
              "26      2\n",
              "39      2\n",
              "36      1\n",
              "44      1\n",
              "41      1\n",
              "38      1\n",
              "46      1\n",
              "22      1\n",
              "29      1\n",
              "28      1\n",
              "27      1\n",
              "55      1\n",
              "Name: Speechiness, dtype: int64"
            ]
          },
          "metadata": {
            "tags": []
          },
          "execution_count": 8
        }
      ]
    },
    {
      "cell_type": "code",
      "metadata": {
        "id": "9xU1aQ2eZGWi",
        "colab_type": "code",
        "colab": {}
      },
      "source": [
        ""
      ],
      "execution_count": 0,
      "outputs": []
    }
  ]
}