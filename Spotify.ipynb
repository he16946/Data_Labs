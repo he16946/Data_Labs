{
  "nbformat": 4,
  "nbformat_minor": 0,
  "metadata": {
    "colab": {
      "name": "Spotify.ipynb",
      "provenance": [],
      "authorship_tag": "ABX9TyPwUNVM3fOz58kuTNSGoMCI",
      "include_colab_link": true
    },
    "kernelspec": {
      "name": "python3",
      "display_name": "Python 3"
    }
  },
  "cells": [
    {
      "cell_type": "markdown",
      "metadata": {
        "id": "view-in-github",
        "colab_type": "text"
      },
      "source": [
        "<a href=\"https://colab.research.google.com/github/he16946/Data_Labs/blob/master/Spotify.ipynb\" target=\"_parent\"><img src=\"https://colab.research.google.com/assets/colab-badge.svg\" alt=\"Open In Colab\"/></a>"
      ]
    },
    {
      "cell_type": "code",
      "metadata": {
        "id": "y1tJj-GVghcc",
        "colab_type": "code",
        "colab": {}
      },
      "source": [
        "import os\n",
        "import pandas as pd\n",
        "import matplotlib.pyplot as plt"
      ],
      "execution_count": 0,
      "outputs": []
    },
    {
      "cell_type": "code",
      "metadata": {
        "id": "1l-ChNkLgvTQ",
        "colab_type": "code",
        "colab": {
          "base_uri": "https://localhost:8080/",
          "height": 70
        },
        "outputId": "0006ca96-aec6-4286-b68f-a2b6ff8d4400"
      },
      "source": [
        "os.environ['KAGGLE_USERNAME'] = \"ce889group3\" # username from the json file\n",
        "\n",
        "os.environ['KAGGLE_KEY'] = \"f0ec34f29bf37cceb765b25f5a1bce2c\" # key from the json file\n",
        "\n",
        "!kaggle datasets download -d geomack/spotifyclassification"
      ],
      "execution_count": 2,
      "outputs": [
        {
          "output_type": "stream",
          "text": [
            "Downloading spotifyclassification.zip to /content\n",
            "\r  0% 0.00/98.4k [00:00<?, ?B/s]\n",
            "\r100% 98.4k/98.4k [00:00<00:00, 32.5MB/s]\n"
          ],
          "name": "stdout"
        }
      ]
    },
    {
      "cell_type": "code",
      "metadata": {
        "id": "CSGezWJMgyGK",
        "colab_type": "code",
        "colab": {}
      },
      "source": [
        "! unzip -q \"spotifyclassification.zip\""
      ],
      "execution_count": 0,
      "outputs": []
    },
    {
      "cell_type": "code",
      "metadata": {
        "id": "zGl1iq2og00d",
        "colab_type": "code",
        "colab": {}
      },
      "source": [
        "df = pd.read_csv(\"data.csv\")"
      ],
      "execution_count": 0,
      "outputs": []
    },
    {
      "cell_type": "code",
      "metadata": {
        "id": "BUgQijEVg6ZX",
        "colab_type": "code",
        "colab": {
          "base_uri": "https://localhost:8080/",
          "height": 106
        },
        "outputId": "d436b63b-0c6d-4526-c180-f137b86df9f0"
      },
      "source": [
        "df.columns"
      ],
      "execution_count": 5,
      "outputs": [
        {
          "output_type": "execute_result",
          "data": {
            "text/plain": [
              "Index(['Unnamed: 0', 'acousticness', 'danceability', 'duration_ms', 'energy',\n",
              "       'instrumentalness', 'key', 'liveness', 'loudness', 'mode',\n",
              "       'speechiness', 'tempo', 'time_signature', 'valence', 'target',\n",
              "       'song_title', 'artist'],\n",
              "      dtype='object')"
            ]
          },
          "metadata": {
            "tags": []
          },
          "execution_count": 5
        }
      ]
    },
    {
      "cell_type": "code",
      "metadata": {
        "id": "BL9ZhwEhg9Xw",
        "colab_type": "code",
        "colab": {
          "base_uri": "https://localhost:8080/",
          "height": 52
        },
        "outputId": "769882dd-43bd-4fef-e991-8cc8b439d2d6"
      },
      "source": [
        "print('Like', round(df['target'].value_counts()[1]/len(df) * 100,2), '% of the dataset')\n",
        "print('Dislike', round(df['target'].value_counts()[0]/len(df) * 100,2), '% of the dataset')"
      ],
      "execution_count": 6,
      "outputs": [
        {
          "output_type": "stream",
          "text": [
            "Like 50.57 % of the dataset\n",
            "Dislike 49.43 % of the dataset\n"
          ],
          "name": "stdout"
        }
      ]
    }
  ]
}