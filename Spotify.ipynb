{
  "nbformat": 4,
  "nbformat_minor": 0,
  "metadata": {
    "colab": {
      "name": "Exams.ipynb",
      "provenance": [],
      "authorship_tag": "ABX9TyO8SfzV/ojY2NyfUpI5eX5Q",
      "include_colab_link": true
    },
    "kernelspec": {
      "name": "python3",
      "display_name": "Python 3"
    }
  },
  "cells": [
    {
      "cell_type": "markdown",
      "metadata": {
        "id": "view-in-github",
        "colab_type": "text"
      },
      "source": [
        "<a href=\"https://colab.research.google.com/github/he16946/Data_Labs/blob/master/Spotify.ipynb\" target=\"_parent\"><img src=\"https://colab.research.google.com/assets/colab-badge.svg\" alt=\"Open In Colab\"/></a>"
      ]
    },
    {
      "cell_type": "markdown",
      "metadata": {
        "id": "6jhyivFepybp",
        "colab_type": "text"
      },
      "source": [
        "# Spotify Data"
      ]
    },
    {
      "cell_type": "code",
      "metadata": {
        "id": "KP9CF_4CXgZQ",
        "colab_type": "code",
        "colab": {}
      },
      "source": [
        "import os\n",
        "import pandas as pd\n",
        "import matplotlib.pyplot as plt"
      ],
      "execution_count": 0,
      "outputs": []
    },
    {
      "cell_type": "code",
      "metadata": {
        "id": "D9pM2KMgvtMA",
        "colab_type": "code",
        "outputId": "043c0398-077d-4852-c11d-451d36a6e569",
        "colab": {
          "base_uri": "https://localhost:8080/",
          "height": 67
        }
      },
      "source": [
        "os.environ['KAGGLE_USERNAME'] = \"ce889group3\" # username from the json file\n",
        "\n",
        "os.environ['KAGGLE_KEY'] = \"f0ec34f29bf37cceb765b25f5a1bce2c\" # key from the json file\n",
        "\n",
        "!kaggle datasets download -d geomack/spotifyclassification\n"
      ],
      "execution_count": 3,
      "outputs": [
        {
          "output_type": "stream",
          "text": [
            "Downloading spotifyclassification.zip to /content\n",
            "\r  0% 0.00/98.4k [00:00<?, ?B/s]\n",
            "\r100% 98.4k/98.4k [00:00<00:00, 36.2MB/s]\n"
          ],
          "name": "stdout"
        }
      ]
    },
    {
      "cell_type": "code",
      "metadata": {
        "id": "0xj6BM2HaxHt",
        "colab_type": "code",
        "colab": {}
      },
      "source": [
        "! unzip -q \"spotifyclassification.zip\""
      ],
      "execution_count": 0,
      "outputs": []
    },
    {
      "cell_type": "code",
      "metadata": {
        "id": "tZewHDXwXpfa",
        "colab_type": "code",
        "colab": {}
      },
      "source": [
        "df = pd.read_csv(\"data.csv\")"
      ],
      "execution_count": 0,
      "outputs": []
    },
    {
      "cell_type": "markdown",
      "metadata": {
        "id": "9cufUlfKqShq",
        "colab_type": "text"
      },
      "source": [
        "## Check data for NaNs"
      ]
    },
    {
      "cell_type": "code",
      "metadata": {
        "id": "79piNtpGoVxp",
        "colab_type": "code",
        "outputId": "86b1c3d0-661c-4a20-a88f-ec7414d0783b",
        "colab": {
          "base_uri": "https://localhost:8080/",
          "height": 101
        }
      },
      "source": [
        "df.columns"
      ],
      "execution_count": 6,
      "outputs": [
        {
          "output_type": "execute_result",
          "data": {
            "text/plain": [
              "Index(['Unnamed: 0', 'acousticness', 'danceability', 'duration_ms', 'energy',\n",
              "       'instrumentalness', 'key', 'liveness', 'loudness', 'mode',\n",
              "       'speechiness', 'tempo', 'time_signature', 'valence', 'target',\n",
              "       'song_title', 'artist'],\n",
              "      dtype='object')"
            ]
          },
          "metadata": {
            "tags": []
          },
          "execution_count": 6
        }
      ]
    },
    {
      "cell_type": "code",
      "metadata": {
        "id": "IPaKX99PqOco",
        "colab_type": "code",
        "outputId": "9f77677c-813f-4f77-a6b7-be18cf3cf33a",
        "colab": {
          "base_uri": "https://localhost:8080/",
          "height": 319
        }
      },
      "source": [
        "df.isna().sum() "
      ],
      "execution_count": 7,
      "outputs": [
        {
          "output_type": "execute_result",
          "data": {
            "text/plain": [
              "Unnamed: 0          0\n",
              "acousticness        0\n",
              "danceability        0\n",
              "duration_ms         0\n",
              "energy              0\n",
              "instrumentalness    0\n",
              "key                 0\n",
              "liveness            0\n",
              "loudness            0\n",
              "mode                0\n",
              "speechiness         0\n",
              "tempo               0\n",
              "time_signature      0\n",
              "valence             0\n",
              "target              0\n",
              "song_title          0\n",
              "artist              0\n",
              "dtype: int64"
            ]
          },
          "metadata": {
            "tags": []
          },
          "execution_count": 7
        }
      ]
    },
    {
      "cell_type": "markdown",
      "metadata": {
        "id": "ZfWJGVtyqXjV",
        "colab_type": "text"
      },
      "source": [
        "## Find imbalance of dataset"
      ]
    },
    {
      "cell_type": "code",
      "metadata": {
        "id": "htSA6R_YobBv",
        "colab_type": "code",
        "outputId": "1637a774-9967-4080-d1cd-ad06aa671012",
        "colab": {
          "base_uri": "https://localhost:8080/",
          "height": 50
        }
      },
      "source": [
        "print('Like', round(df['target'].value_counts()[1]/len(df) * 100,2), '% of the dataset')\n",
        "print('Dislike', round(df['target'].value_counts()[0]/len(df) * 100,2), '% of the dataset')"
      ],
      "execution_count": 9,
      "outputs": [
        {
          "output_type": "stream",
          "text": [
            "Like 50.57 % of the dataset\n",
            "Dislike 49.43 % of the dataset\n"
          ],
          "name": "stdout"
        }
      ]
    },
    {
      "cell_type": "code",
      "metadata": {
        "id": "nVzxerVRv9xI",
        "colab_type": "code",
        "outputId": "6c386e97-ab85-4c15-9609-470d16d12197",
        "colab": {
          "base_uri": "https://localhost:8080/",
          "height": 358
        }
      },
      "source": [
        "plt.title('Histogram of Results \\n 0: Pass || 1: Fail')\n",
        "plt.xlabel('Class')\n",
        "plt.hist(df['Results'], color='blue')"
      ],
      "execution_count": 0,
      "outputs": [
        {
          "output_type": "execute_result",
          "data": {
            "text/plain": [
              "(array([650.,   0.,   0.,   0.,   0.,   0.,   0.,   0.,   0., 350.]),\n",
              " array([0. , 0.1, 0.2, 0.3, 0.4, 0.5, 0.6, 0.7, 0.8, 0.9, 1. ]),\n",
              " <a list of 10 Patch objects>)"
            ]
          },
          "metadata": {
            "tags": []
          },
          "execution_count": 6
        },
        {
          "output_type": "display_data",
          "data": {
            "image/png": "[encoded data removed]",
            "text/plain": [
              "<Figure size 432x288 with 1 Axes>"
            ]
          },
          "metadata": {
            "tags": []
          }
        }
      ]
    }
  ]
}